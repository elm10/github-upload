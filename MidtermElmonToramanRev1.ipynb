{
 "cells": [
  {
   "cell_type": "markdown",
   "metadata": {},
   "source": [
    "# ADS Midterm 2019"
   ]
  },
  {
   "cell_type": "markdown",
   "metadata": {},
   "source": [
    "## Theoretic part"
   ]
  },
  {
   "cell_type": "markdown",
   "metadata": {},
   "source": [
    "## Question 1 (5pts). \n",
    "Imagine traninig a model which considers multiple street segments with their characteristics and aims to predict the traffic. Some street segments from the training sample have the amount of traffic speficied for them, others do not. How would you classify this problem from Machine Learning perspective?\n",
    "\n",
    "A. Supervised leanring;\n",
    "\n",
    "B. Unsupervised learning;\n",
    "\n",
    "C. Semi-supervised learning;\n",
    "\n",
    "D. Reinforcement learning.\n",
    "\n",
    "Explain you choice:"
   ]
  },
  {
   "cell_type": "code",
   "execution_count": 1,
   "metadata": {},
   "outputs": [],
   "source": [
    "# C bc it partially has the output  and C as it does nat have all the outputs "
   ]
  },
  {
   "cell_type": "markdown",
   "metadata": {},
   "source": [
    "## Question 2 (5pts). \n",
    "Regression $y\\sim a_1 x_1 + a_2 x_2 +a_3 x_3$ have p-value of $0.03$ for $x_1$, $0.3$ for $x_2$ and $0.15$ for $x_3$. Does in mean that (select all that apply):\n",
    "\n",
    "A. Impact of $x_3$ is twice stronger than impact of $x_2$.\n",
    "\n",
    "B. Regressors $x_2$ and $x_3$ are irrelevant.\n",
    "\n",
    "C. One could reject the null-hypothesis $a_j=0$ only for $j=1$ but not for $j=2$ and $j=3$ at 95% singificance level.\n",
    "\n",
    "D. The estimated value of $a_1$ is statistically significant.\n",
    "\n",
    "E. 95%-confidence indervals for $a_2$ and $a_3$ should contain zero. "
   ]
  },
  {
   "cell_type": "code",
   "execution_count": 2,
   "metadata": {},
   "outputs": [],
   "source": [
    "#  D. since the beta coefficient is the degree of change in the outcome variable for every 1-unit of change in the predictor variable."
   ]
  },
  {
   "cell_type": "markdown",
   "metadata": {},
   "source": [
    "### Question 3 (10pts). \n",
    "You trained the regression model with 100 regressors and 1000 observations in the training and another 1000 in the validation sample. You found that in-sample R2 over the training sample is 70\\% and over the validation sample only - 30\\%. \n",
    "\n",
    "a) Do you think there is any problem and how would you characterize it? Can adding more regressors (if you have them) help the model?\n",
    "\n",
    "b) Which approaches you may use to solve the problem? \n",
    "\n",
    "c) Whould you expect the in-sample R2 to increase or decrease after that? What about the out-of-sample (validation R2)?"
   ]
  },
  {
   "cell_type": "code",
   "execution_count": 3,
   "metadata": {},
   "outputs": [],
   "source": [
    " #a tehre is a problem in splitting adding more regressors will not helpThe validation set should only be  used to evaluate a given model the numer of data should not be equal to the training\n",
    "    #b- cross validation on the training data should be done    smple \n",
    "    #c- since out of sample is based on traning data similarly   it will give high correaltion "
   ]
  },
  {
   "cell_type": "markdown",
   "metadata": {},
   "source": [
    "### Question 4 (10pts). "
   ]
  },
  {
   "cell_type": "markdown",
   "metadata": {},
   "source": [
    "Below is a fraction of a multivariate regression model summary table. Suppose someone\n",
    "printed it out for you but it got stained and a few numbers are unreadable (marked as AAA, BBB). \n",
    "\n",
    "a) Please fill them in. Explain your solution\n",
    "\n",
    "| Variable| Coefficient | 95% Conf.Int. |\n",
    "|---|---|---|\n",
    "| X1 | 2 | (AAA 4) |\n",
    "| X2 | BBB | (4 6) |\n",
    "\n",
    "b) Can you specify p-value for X1? "
   ]
  },
  {
   "cell_type": "code",
   "execution_count": 4,
   "metadata": {},
   "outputs": [],
   "source": [
    "#a)AAA p=1-alfa/2 =1-.05/2=0.975\n",
    "#BBB is the slope coefficient  between 4 and 6 \n",
    "\n",
    "#b teh significance level is 0.05   p-values also range from 0 to 1 "
   ]
  },
  {
   "cell_type": "code",
   "execution_count": 5,
   "metadata": {},
   "outputs": [],
   "source": [
    "# import packages\n",
    "import numpy as np\n",
    "import matplotlib\n",
    "import matplotlib.pyplot as plt\n",
    "import pandas as pd\n",
    "import statsmodels.formula.api as smf\n",
    "from sklearn.metrics import mean_squared_error, r2_score\n",
    "import datetime as dt\n",
    "from sklearn import linear_model\n",
    "from sklearn import model_selection\n",
    "from sklearn import preprocessing\n",
    "from sklearn.metrics import silhouette_samples, silhouette_score\n",
    "from sklearn.cluster import KMeans\n",
    "\n",
    "# suppress warning\n",
    "import warnings\n",
    "warnings.simplefilter(action='ignore', category=FutureWarning)"
   ]
  },
  {
   "cell_type": "markdown",
   "metadata": {},
   "source": [
    "# Midterm: FHV Traffic Modeling for Real-Time Autonomous Vehicle Solutions in LGA\n",
    "\n",
    "Transportation network models are essential to transportation operations and planning. A simple yet well-designed linear model can provide us insights on the traffic demand. We are going to model the outgoing traffic around La Guardia airport, one of the busiest transportation hubs in NYC. \n",
    "In this test, you'll be asked to:\n",
    "* Find possible correlations from observations\n",
    "* Incoperate time patterns using dummy variables\n",
    "* Run and diagnose linear models, in-sample and out-of-sample. Perform feature selection\n",
    "* Cluster the days based on their ridership patterns to see if we can detect any outliers"
   ]
  },
  {
   "cell_type": "markdown",
   "metadata": {},
   "source": [
    "We will be importing the dataset `LGA60.csv` providing FHV ridership and arrivals at the airport aggregated on the hourly basis:\n",
    "* `fhv`: Number of FHV (For Hire Vehicle) departing from LGA. This is our target variable.\n",
    "* `arrival`: Number of incoming domestic flights arriving LGA, which is assumed to provide a basis for future FHV demand"
   ]
  },
  {
   "cell_type": "code",
   "execution_count": 6,
   "metadata": {},
   "outputs": [
    {
     "ename": "FileNotFoundError",
     "evalue": "[Errno 2] File b'LGA60.csv' does not exist: b'LGA60.csv'",
     "output_type": "error",
     "traceback": [
      "\u001b[1;31m---------------------------------------------------------------------------\u001b[0m",
      "\u001b[1;31mFileNotFoundError\u001b[0m                         Traceback (most recent call last)",
      "\u001b[1;32m<ipython-input-6-17d6b4feb08a>\u001b[0m in \u001b[0;36m<module>\u001b[1;34m\u001b[0m\n\u001b[0;32m      1\u001b[0m \u001b[1;31m# import and curate the dataset\u001b[0m\u001b[1;33m\u001b[0m\u001b[1;33m\u001b[0m\u001b[1;33m\u001b[0m\u001b[0m\n\u001b[1;32m----> 2\u001b[1;33m \u001b[0mdataset\u001b[0m \u001b[1;33m=\u001b[0m \u001b[0mpd\u001b[0m\u001b[1;33m.\u001b[0m\u001b[0mread_csv\u001b[0m\u001b[1;33m(\u001b[0m\u001b[1;34m\"LGA60.csv\"\u001b[0m\u001b[1;33m)\u001b[0m\u001b[1;33m\u001b[0m\u001b[1;33m\u001b[0m\u001b[0m\n\u001b[0m",
      "\u001b[1;32mC:\\ProgramData\\Anaconda3\\lib\\site-packages\\pandas\\io\\parsers.py\u001b[0m in \u001b[0;36mparser_f\u001b[1;34m(filepath_or_buffer, sep, delimiter, header, names, index_col, usecols, squeeze, prefix, mangle_dupe_cols, dtype, engine, converters, true_values, false_values, skipinitialspace, skiprows, skipfooter, nrows, na_values, keep_default_na, na_filter, verbose, skip_blank_lines, parse_dates, infer_datetime_format, keep_date_col, date_parser, dayfirst, iterator, chunksize, compression, thousands, decimal, lineterminator, quotechar, quoting, doublequote, escapechar, comment, encoding, dialect, tupleize_cols, error_bad_lines, warn_bad_lines, delim_whitespace, low_memory, memory_map, float_precision)\u001b[0m\n\u001b[0;32m    700\u001b[0m                     skip_blank_lines=skip_blank_lines)\n\u001b[0;32m    701\u001b[0m \u001b[1;33m\u001b[0m\u001b[0m\n\u001b[1;32m--> 702\u001b[1;33m         \u001b[1;32mreturn\u001b[0m \u001b[0m_read\u001b[0m\u001b[1;33m(\u001b[0m\u001b[0mfilepath_or_buffer\u001b[0m\u001b[1;33m,\u001b[0m \u001b[0mkwds\u001b[0m\u001b[1;33m)\u001b[0m\u001b[1;33m\u001b[0m\u001b[1;33m\u001b[0m\u001b[0m\n\u001b[0m\u001b[0;32m    703\u001b[0m \u001b[1;33m\u001b[0m\u001b[0m\n\u001b[0;32m    704\u001b[0m     \u001b[0mparser_f\u001b[0m\u001b[1;33m.\u001b[0m\u001b[0m__name__\u001b[0m \u001b[1;33m=\u001b[0m \u001b[0mname\u001b[0m\u001b[1;33m\u001b[0m\u001b[1;33m\u001b[0m\u001b[0m\n",
      "\u001b[1;32mC:\\ProgramData\\Anaconda3\\lib\\site-packages\\pandas\\io\\parsers.py\u001b[0m in \u001b[0;36m_read\u001b[1;34m(filepath_or_buffer, kwds)\u001b[0m\n\u001b[0;32m    427\u001b[0m \u001b[1;33m\u001b[0m\u001b[0m\n\u001b[0;32m    428\u001b[0m     \u001b[1;31m# Create the parser.\u001b[0m\u001b[1;33m\u001b[0m\u001b[1;33m\u001b[0m\u001b[1;33m\u001b[0m\u001b[0m\n\u001b[1;32m--> 429\u001b[1;33m     \u001b[0mparser\u001b[0m \u001b[1;33m=\u001b[0m \u001b[0mTextFileReader\u001b[0m\u001b[1;33m(\u001b[0m\u001b[0mfilepath_or_buffer\u001b[0m\u001b[1;33m,\u001b[0m \u001b[1;33m**\u001b[0m\u001b[0mkwds\u001b[0m\u001b[1;33m)\u001b[0m\u001b[1;33m\u001b[0m\u001b[1;33m\u001b[0m\u001b[0m\n\u001b[0m\u001b[0;32m    430\u001b[0m \u001b[1;33m\u001b[0m\u001b[0m\n\u001b[0;32m    431\u001b[0m     \u001b[1;32mif\u001b[0m \u001b[0mchunksize\u001b[0m \u001b[1;32mor\u001b[0m \u001b[0miterator\u001b[0m\u001b[1;33m:\u001b[0m\u001b[1;33m\u001b[0m\u001b[1;33m\u001b[0m\u001b[0m\n",
      "\u001b[1;32mC:\\ProgramData\\Anaconda3\\lib\\site-packages\\pandas\\io\\parsers.py\u001b[0m in \u001b[0;36m__init__\u001b[1;34m(self, f, engine, **kwds)\u001b[0m\n\u001b[0;32m    893\u001b[0m             \u001b[0mself\u001b[0m\u001b[1;33m.\u001b[0m\u001b[0moptions\u001b[0m\u001b[1;33m[\u001b[0m\u001b[1;34m'has_index_names'\u001b[0m\u001b[1;33m]\u001b[0m \u001b[1;33m=\u001b[0m \u001b[0mkwds\u001b[0m\u001b[1;33m[\u001b[0m\u001b[1;34m'has_index_names'\u001b[0m\u001b[1;33m]\u001b[0m\u001b[1;33m\u001b[0m\u001b[1;33m\u001b[0m\u001b[0m\n\u001b[0;32m    894\u001b[0m \u001b[1;33m\u001b[0m\u001b[0m\n\u001b[1;32m--> 895\u001b[1;33m         \u001b[0mself\u001b[0m\u001b[1;33m.\u001b[0m\u001b[0m_make_engine\u001b[0m\u001b[1;33m(\u001b[0m\u001b[0mself\u001b[0m\u001b[1;33m.\u001b[0m\u001b[0mengine\u001b[0m\u001b[1;33m)\u001b[0m\u001b[1;33m\u001b[0m\u001b[1;33m\u001b[0m\u001b[0m\n\u001b[0m\u001b[0;32m    896\u001b[0m \u001b[1;33m\u001b[0m\u001b[0m\n\u001b[0;32m    897\u001b[0m     \u001b[1;32mdef\u001b[0m \u001b[0mclose\u001b[0m\u001b[1;33m(\u001b[0m\u001b[0mself\u001b[0m\u001b[1;33m)\u001b[0m\u001b[1;33m:\u001b[0m\u001b[1;33m\u001b[0m\u001b[1;33m\u001b[0m\u001b[0m\n",
      "\u001b[1;32mC:\\ProgramData\\Anaconda3\\lib\\site-packages\\pandas\\io\\parsers.py\u001b[0m in \u001b[0;36m_make_engine\u001b[1;34m(self, engine)\u001b[0m\n\u001b[0;32m   1120\u001b[0m     \u001b[1;32mdef\u001b[0m \u001b[0m_make_engine\u001b[0m\u001b[1;33m(\u001b[0m\u001b[0mself\u001b[0m\u001b[1;33m,\u001b[0m \u001b[0mengine\u001b[0m\u001b[1;33m=\u001b[0m\u001b[1;34m'c'\u001b[0m\u001b[1;33m)\u001b[0m\u001b[1;33m:\u001b[0m\u001b[1;33m\u001b[0m\u001b[1;33m\u001b[0m\u001b[0m\n\u001b[0;32m   1121\u001b[0m         \u001b[1;32mif\u001b[0m \u001b[0mengine\u001b[0m \u001b[1;33m==\u001b[0m \u001b[1;34m'c'\u001b[0m\u001b[1;33m:\u001b[0m\u001b[1;33m\u001b[0m\u001b[1;33m\u001b[0m\u001b[0m\n\u001b[1;32m-> 1122\u001b[1;33m             \u001b[0mself\u001b[0m\u001b[1;33m.\u001b[0m\u001b[0m_engine\u001b[0m \u001b[1;33m=\u001b[0m \u001b[0mCParserWrapper\u001b[0m\u001b[1;33m(\u001b[0m\u001b[0mself\u001b[0m\u001b[1;33m.\u001b[0m\u001b[0mf\u001b[0m\u001b[1;33m,\u001b[0m \u001b[1;33m**\u001b[0m\u001b[0mself\u001b[0m\u001b[1;33m.\u001b[0m\u001b[0moptions\u001b[0m\u001b[1;33m)\u001b[0m\u001b[1;33m\u001b[0m\u001b[1;33m\u001b[0m\u001b[0m\n\u001b[0m\u001b[0;32m   1123\u001b[0m         \u001b[1;32melse\u001b[0m\u001b[1;33m:\u001b[0m\u001b[1;33m\u001b[0m\u001b[1;33m\u001b[0m\u001b[0m\n\u001b[0;32m   1124\u001b[0m             \u001b[1;32mif\u001b[0m \u001b[0mengine\u001b[0m \u001b[1;33m==\u001b[0m \u001b[1;34m'python'\u001b[0m\u001b[1;33m:\u001b[0m\u001b[1;33m\u001b[0m\u001b[1;33m\u001b[0m\u001b[0m\n",
      "\u001b[1;32mC:\\ProgramData\\Anaconda3\\lib\\site-packages\\pandas\\io\\parsers.py\u001b[0m in \u001b[0;36m__init__\u001b[1;34m(self, src, **kwds)\u001b[0m\n\u001b[0;32m   1851\u001b[0m         \u001b[0mkwds\u001b[0m\u001b[1;33m[\u001b[0m\u001b[1;34m'usecols'\u001b[0m\u001b[1;33m]\u001b[0m \u001b[1;33m=\u001b[0m \u001b[0mself\u001b[0m\u001b[1;33m.\u001b[0m\u001b[0musecols\u001b[0m\u001b[1;33m\u001b[0m\u001b[1;33m\u001b[0m\u001b[0m\n\u001b[0;32m   1852\u001b[0m \u001b[1;33m\u001b[0m\u001b[0m\n\u001b[1;32m-> 1853\u001b[1;33m         \u001b[0mself\u001b[0m\u001b[1;33m.\u001b[0m\u001b[0m_reader\u001b[0m \u001b[1;33m=\u001b[0m \u001b[0mparsers\u001b[0m\u001b[1;33m.\u001b[0m\u001b[0mTextReader\u001b[0m\u001b[1;33m(\u001b[0m\u001b[0msrc\u001b[0m\u001b[1;33m,\u001b[0m \u001b[1;33m**\u001b[0m\u001b[0mkwds\u001b[0m\u001b[1;33m)\u001b[0m\u001b[1;33m\u001b[0m\u001b[1;33m\u001b[0m\u001b[0m\n\u001b[0m\u001b[0;32m   1854\u001b[0m         \u001b[0mself\u001b[0m\u001b[1;33m.\u001b[0m\u001b[0munnamed_cols\u001b[0m \u001b[1;33m=\u001b[0m \u001b[0mself\u001b[0m\u001b[1;33m.\u001b[0m\u001b[0m_reader\u001b[0m\u001b[1;33m.\u001b[0m\u001b[0munnamed_cols\u001b[0m\u001b[1;33m\u001b[0m\u001b[1;33m\u001b[0m\u001b[0m\n\u001b[0;32m   1855\u001b[0m \u001b[1;33m\u001b[0m\u001b[0m\n",
      "\u001b[1;32mpandas/_libs/parsers.pyx\u001b[0m in \u001b[0;36mpandas._libs.parsers.TextReader.__cinit__\u001b[1;34m()\u001b[0m\n",
      "\u001b[1;32mpandas/_libs/parsers.pyx\u001b[0m in \u001b[0;36mpandas._libs.parsers.TextReader._setup_parser_source\u001b[1;34m()\u001b[0m\n",
      "\u001b[1;31mFileNotFoundError\u001b[0m: [Errno 2] File b'LGA60.csv' does not exist: b'LGA60.csv'"
     ]
    }
   ],
   "source": [
    "# import and curate the dataset\n",
    "dataset = pd.read_csv(\"LGA60.csv\")"
   ]
  },
  {
   "cell_type": "code",
   "execution_count": null,
   "metadata": {},
   "outputs": [],
   "source": [
    "dataset.head()"
   ]
  },
  {
   "cell_type": "code",
   "execution_count": null,
   "metadata": {},
   "outputs": [],
   "source": [
    "# convert the `date` feature into `dt.datetime` format. This is for later creating dummy variables\n",
    "dataset.date = pd.to_datetime(dataset.date, format='%y/%m/%d %H:%M')"
   ]
  },
  {
   "cell_type": "code",
   "execution_count": null,
   "metadata": {},
   "outputs": [],
   "source": [
    "#get day from beginning of the year, hour and day of the week from datetime\n",
    "dataset['hour']=pd.DatetimeIndex(dataset.date).hour"
   ]
  },
  {
   "cell_type": "code",
   "execution_count": null,
   "metadata": {},
   "outputs": [],
   "source": [
    "#get day of the week; monday - 0, sunday - 6\n",
    "dataset['dow']=pd.DatetimeIndex(dataset.date).weekday"
   ]
  },
  {
   "cell_type": "code",
   "execution_count": null,
   "metadata": {},
   "outputs": [],
   "source": [
    "#get day from beginning of the year\n",
    "dataset['day']=((dataset.date-dt.datetime(2018,1,1))/dt.timedelta(days = 1)).astype(int)"
   ]
  },
  {
   "cell_type": "code",
   "execution_count": null,
   "metadata": {},
   "outputs": [],
   "source": [
    "#add time-lagged arrivals (1,2,3,4,5,6,...9 hours before)\n",
    "maxlag = 9\n",
    "lagdata=pd.DataFrame([])\n",
    "for lag in range(1,maxlag+1):\n",
    "        varname = 'lag' + str(lag)\n",
    "        lagdata[varname] = dataset['arrival'].iloc[maxlag-lag:len(dataset)-lag].reset_index(drop = True)\n",
    "datasetL = pd.concat([dataset.loc[maxlag:].reset_index(drop = True), lagdata.reset_index(drop = True)], axis = 1, sort = False)"
   ]
  },
  {
   "cell_type": "code",
   "execution_count": 10,
   "metadata": {},
   "outputs": [
    {
     "data": {
      "text/html": [
       "<div>\n",
       "<style scoped>\n",
       "    .dataframe tbody tr th:only-of-type {\n",
       "        vertical-align: middle;\n",
       "    }\n",
       "\n",
       "    .dataframe tbody tr th {\n",
       "        vertical-align: top;\n",
       "    }\n",
       "\n",
       "    .dataframe thead th {\n",
       "        text-align: right;\n",
       "    }\n",
       "</style>\n",
       "<table border=\"1\" class=\"dataframe\">\n",
       "  <thead>\n",
       "    <tr style=\"text-align: right;\">\n",
       "      <th></th>\n",
       "      <th>date</th>\n",
       "      <th>arrival</th>\n",
       "      <th>fhv</th>\n",
       "      <th>hour</th>\n",
       "      <th>dow</th>\n",
       "      <th>day</th>\n",
       "      <th>lag1</th>\n",
       "      <th>lag2</th>\n",
       "      <th>lag3</th>\n",
       "      <th>lag4</th>\n",
       "      <th>lag5</th>\n",
       "      <th>lag6</th>\n",
       "      <th>lag7</th>\n",
       "      <th>lag8</th>\n",
       "      <th>lag9</th>\n",
       "    </tr>\n",
       "  </thead>\n",
       "  <tbody>\n",
       "    <tr>\n",
       "      <th>0</th>\n",
       "      <td>2018-01-01 09:00:00</td>\n",
       "      <td>15</td>\n",
       "      <td>228</td>\n",
       "      <td>9</td>\n",
       "      <td>0</td>\n",
       "      <td>0</td>\n",
       "      <td>14</td>\n",
       "      <td>5</td>\n",
       "      <td>0</td>\n",
       "      <td>0</td>\n",
       "      <td>0</td>\n",
       "      <td>0</td>\n",
       "      <td>1</td>\n",
       "      <td>0</td>\n",
       "      <td>3</td>\n",
       "    </tr>\n",
       "    <tr>\n",
       "      <th>1</th>\n",
       "      <td>2018-01-01 10:00:00</td>\n",
       "      <td>30</td>\n",
       "      <td>253</td>\n",
       "      <td>10</td>\n",
       "      <td>0</td>\n",
       "      <td>0</td>\n",
       "      <td>15</td>\n",
       "      <td>14</td>\n",
       "      <td>5</td>\n",
       "      <td>0</td>\n",
       "      <td>0</td>\n",
       "      <td>0</td>\n",
       "      <td>0</td>\n",
       "      <td>1</td>\n",
       "      <td>0</td>\n",
       "    </tr>\n",
       "    <tr>\n",
       "      <th>2</th>\n",
       "      <td>2018-01-01 11:00:00</td>\n",
       "      <td>18</td>\n",
       "      <td>405</td>\n",
       "      <td>11</td>\n",
       "      <td>0</td>\n",
       "      <td>0</td>\n",
       "      <td>30</td>\n",
       "      <td>15</td>\n",
       "      <td>14</td>\n",
       "      <td>5</td>\n",
       "      <td>0</td>\n",
       "      <td>0</td>\n",
       "      <td>0</td>\n",
       "      <td>0</td>\n",
       "      <td>1</td>\n",
       "    </tr>\n",
       "    <tr>\n",
       "      <th>3</th>\n",
       "      <td>2018-01-01 12:00:00</td>\n",
       "      <td>14</td>\n",
       "      <td>273</td>\n",
       "      <td>12</td>\n",
       "      <td>0</td>\n",
       "      <td>0</td>\n",
       "      <td>18</td>\n",
       "      <td>30</td>\n",
       "      <td>15</td>\n",
       "      <td>14</td>\n",
       "      <td>5</td>\n",
       "      <td>0</td>\n",
       "      <td>0</td>\n",
       "      <td>0</td>\n",
       "      <td>0</td>\n",
       "    </tr>\n",
       "    <tr>\n",
       "      <th>4</th>\n",
       "      <td>2018-01-01 13:00:00</td>\n",
       "      <td>20</td>\n",
       "      <td>254</td>\n",
       "      <td>13</td>\n",
       "      <td>0</td>\n",
       "      <td>0</td>\n",
       "      <td>14</td>\n",
       "      <td>18</td>\n",
       "      <td>30</td>\n",
       "      <td>15</td>\n",
       "      <td>14</td>\n",
       "      <td>5</td>\n",
       "      <td>0</td>\n",
       "      <td>0</td>\n",
       "      <td>0</td>\n",
       "    </tr>\n",
       "  </tbody>\n",
       "</table>\n",
       "</div>"
      ],
      "text/plain": [
       "                 date  arrival  fhv  hour  dow  day  lag1  lag2  lag3  lag4  \\\n",
       "0 2018-01-01 09:00:00       15  228     9    0    0    14     5     0     0   \n",
       "1 2018-01-01 10:00:00       30  253    10    0    0    15    14     5     0   \n",
       "2 2018-01-01 11:00:00       18  405    11    0    0    30    15    14     5   \n",
       "3 2018-01-01 12:00:00       14  273    12    0    0    18    30    15    14   \n",
       "4 2018-01-01 13:00:00       20  254    13    0    0    14    18    30    15   \n",
       "\n",
       "   lag5  lag6  lag7  lag8  lag9  \n",
       "0     0     0     1     0     3  \n",
       "1     0     0     0     1     0  \n",
       "2     0     0     0     0     1  \n",
       "3     5     0     0     0     0  \n",
       "4    14     5     0     0     0  "
      ]
     },
     "execution_count": 10,
     "metadata": {},
     "output_type": "execute_result"
    }
   ],
   "source": [
    "datasetL.head()"
   ]
  },
  {
   "cell_type": "code",
   "execution_count": 11,
   "metadata": {},
   "outputs": [],
   "source": [
    "#split the data into training, validation and testaa\n",
    "train=datasetL.loc[datasetL.day<90,:]\n",
    "valid=datasetL.loc[(datasetL.day>=90)&(datasetL.day<270),:]\n",
    "test=datasetL.loc[datasetL.day>=270,:]"
   ]
  },
  {
   "cell_type": "markdown",
   "metadata": {},
   "source": [
    "## Task 1. Data Exploration\n",
    "### Q1 (5pts). Print some dataset characteristics: number of records, total number of FHV trips, total number of arriving flights"
   ]
  },
  {
   "cell_type": "code",
   "execution_count": 13,
   "metadata": {
    "scrolled": true
   },
   "outputs": [
    {
     "name": "stdout",
     "output_type": "stream",
     "text": [
      "Number of Records 8751\n",
      "Total Number of FHV Trips 3094625\n",
      "Total Number of Arrival Flights 163690\n"
     ]
    }
   ],
   "source": [
    "# Solution\n",
    "number_Of_Records = datasetL.shape[0]\n",
    "NOf_FHV = datasetL.fhv.sum()\n",
    "NOf_Arrival_Flights = datasetL.arrival.sum()\n",
    "print('Number of Records {0}'.format(number_Of_Records))\n",
    "print('Total Number of FHV Trips {0}'.format(NOf_FHV))\n",
    "print('Total Number of Arrival Flights {0}'.format(NOf_Arrival_Flights))"
   ]
  },
  {
   "cell_type": "markdown",
   "metadata": {},
   "source": [
    "### Q2 (10pts). Visualize the timeline of FHV rides and arriving flights over the first month (January, 2018)"
   ]
  },
  {
   "cell_type": "code",
   "execution_count": 14,
   "metadata": {},
   "outputs": [
    {
     "data": {
      "text/html": [
       "<div>\n",
       "<style scoped>\n",
       "    .dataframe tbody tr th:only-of-type {\n",
       "        vertical-align: middle;\n",
       "    }\n",
       "\n",
       "    .dataframe tbody tr th {\n",
       "        vertical-align: top;\n",
       "    }\n",
       "\n",
       "    .dataframe thead th {\n",
       "        text-align: right;\n",
       "    }\n",
       "</style>\n",
       "<table border=\"1\" class=\"dataframe\">\n",
       "  <thead>\n",
       "    <tr style=\"text-align: right;\">\n",
       "      <th></th>\n",
       "      <th>date</th>\n",
       "      <th>arrival</th>\n",
       "      <th>fhv</th>\n",
       "      <th>hour</th>\n",
       "      <th>dow</th>\n",
       "      <th>day</th>\n",
       "      <th>lag1</th>\n",
       "      <th>lag2</th>\n",
       "      <th>lag3</th>\n",
       "      <th>lag4</th>\n",
       "      <th>lag5</th>\n",
       "      <th>lag6</th>\n",
       "      <th>lag7</th>\n",
       "      <th>lag8</th>\n",
       "      <th>lag9</th>\n",
       "    </tr>\n",
       "  </thead>\n",
       "  <tbody>\n",
       "    <tr>\n",
       "      <th>754</th>\n",
       "      <td>2018-02-01 19:00:00</td>\n",
       "      <td>34</td>\n",
       "      <td>736</td>\n",
       "      <td>19</td>\n",
       "      <td>3</td>\n",
       "      <td>31</td>\n",
       "      <td>34</td>\n",
       "      <td>28</td>\n",
       "      <td>39</td>\n",
       "      <td>35</td>\n",
       "      <td>28</td>\n",
       "      <td>32</td>\n",
       "      <td>30</td>\n",
       "      <td>25</td>\n",
       "      <td>41</td>\n",
       "    </tr>\n",
       "    <tr>\n",
       "      <th>755</th>\n",
       "      <td>2018-02-01 20:00:00</td>\n",
       "      <td>32</td>\n",
       "      <td>624</td>\n",
       "      <td>20</td>\n",
       "      <td>3</td>\n",
       "      <td>31</td>\n",
       "      <td>34</td>\n",
       "      <td>34</td>\n",
       "      <td>28</td>\n",
       "      <td>39</td>\n",
       "      <td>35</td>\n",
       "      <td>28</td>\n",
       "      <td>32</td>\n",
       "      <td>30</td>\n",
       "      <td>25</td>\n",
       "    </tr>\n",
       "    <tr>\n",
       "      <th>756</th>\n",
       "      <td>2018-02-01 21:00:00</td>\n",
       "      <td>25</td>\n",
       "      <td>734</td>\n",
       "      <td>21</td>\n",
       "      <td>3</td>\n",
       "      <td>31</td>\n",
       "      <td>32</td>\n",
       "      <td>34</td>\n",
       "      <td>34</td>\n",
       "      <td>28</td>\n",
       "      <td>39</td>\n",
       "      <td>35</td>\n",
       "      <td>28</td>\n",
       "      <td>32</td>\n",
       "      <td>30</td>\n",
       "    </tr>\n",
       "    <tr>\n",
       "      <th>757</th>\n",
       "      <td>2018-02-01 22:00:00</td>\n",
       "      <td>23</td>\n",
       "      <td>606</td>\n",
       "      <td>22</td>\n",
       "      <td>3</td>\n",
       "      <td>31</td>\n",
       "      <td>25</td>\n",
       "      <td>32</td>\n",
       "      <td>34</td>\n",
       "      <td>34</td>\n",
       "      <td>28</td>\n",
       "      <td>39</td>\n",
       "      <td>35</td>\n",
       "      <td>28</td>\n",
       "      <td>32</td>\n",
       "    </tr>\n",
       "    <tr>\n",
       "      <th>758</th>\n",
       "      <td>2018-02-01 23:00:00</td>\n",
       "      <td>12</td>\n",
       "      <td>500</td>\n",
       "      <td>23</td>\n",
       "      <td>3</td>\n",
       "      <td>31</td>\n",
       "      <td>23</td>\n",
       "      <td>25</td>\n",
       "      <td>32</td>\n",
       "      <td>34</td>\n",
       "      <td>34</td>\n",
       "      <td>28</td>\n",
       "      <td>39</td>\n",
       "      <td>35</td>\n",
       "      <td>28</td>\n",
       "    </tr>\n",
       "  </tbody>\n",
       "</table>\n",
       "</div>"
      ],
      "text/plain": [
       "                   date  arrival  fhv  hour  dow  day  lag1  lag2  lag3  lag4  \\\n",
       "754 2018-02-01 19:00:00       34  736    19    3   31    34    28    39    35   \n",
       "755 2018-02-01 20:00:00       32  624    20    3   31    34    34    28    39   \n",
       "756 2018-02-01 21:00:00       25  734    21    3   31    32    34    34    28   \n",
       "757 2018-02-01 22:00:00       23  606    22    3   31    25    32    34    34   \n",
       "758 2018-02-01 23:00:00       12  500    23    3   31    23    25    32    34   \n",
       "\n",
       "     lag5  lag6  lag7  lag8  lag9  \n",
       "754    28    32    30    25    41  \n",
       "755    35    28    32    30    25  \n",
       "756    39    35    28    32    30  \n",
       "757    28    39    35    28    32  \n",
       "758    34    28    39    35    28  "
      ]
     },
     "execution_count": 14,
     "metadata": {},
     "output_type": "execute_result"
    }
   ],
   "source": [
    "#datasetL=pd.to_numeric(datasetL,errors='coerce')\n",
    " #datasetL['date']=datasetL.loc date>= (2018,1,1)\n",
    "    \n",
    "datasetLjan=datasetL[datasetL.day<32]\n",
    "datasetLjan.tail()"
   ]
  },
  {
   "cell_type": "code",
   "execution_count": 17,
   "metadata": {},
   "outputs": [
    {
     "data": {
      "text/plain": [
       "<matplotlib.axes._subplots.AxesSubplot at 0x18a7e3e3e80>"
      ]
     },
     "execution_count": 17,
     "metadata": {},
     "output_type": "execute_result"
    },
    {
     "data": {
      "image/png": "[encoded data removed]",
      "text/plain": [
       "<Figure size 432x288 with 1 Axes>"
      ]
     },
     "metadata": {
      "needs_background": "light"
     },
     "output_type": "display_data"
    },
    {
     "data": {
      "image/png": "[encoded data removed]",
      "text/plain": [
       "<Figure size 432x288 with 1 Axes>"
      ]
     },
     "metadata": {
      "needs_background": "light"
     },
     "output_type": "display_data"
    }
   ],
   "source": [
    "datasetLjan.plot(x='day',y='fhv',color='b',kind='scatter',title='FHV rides by Days of January')\n",
    "datasetLjan.plot(x='day',y='arrival',color='g',kind='scatter',title='Arriving flights by Days Of January')"
   ]
  },
  {
   "cell_type": "markdown",
   "metadata": {},
   "source": [
    "### Q3 (5pts). Report correlation between FHV rides and arriving flights"
   ]
  },
  {
   "cell_type": "code",
   "execution_count": 23,
   "metadata": {},
   "outputs": [
    {
     "data": {
      "text/plain": [
       "array([[1.        , 0.75299452],\n",
       "       [0.75299452, 1.        ]])"
      ]
     },
     "execution_count": 23,
     "metadata": {},
     "output_type": "execute_result"
    }
   ],
   "source": [
    "np.corrcoef(datasetL.fhv,datasetL.arrival)\n"
   ]
  },
  {
   "cell_type": "code",
   "execution_count": 24,
   "metadata": {},
   "outputs": [],
   "source": [
    "#there is high  corr of 0.75 between fhv & arrival "
   ]
  },
  {
   "cell_type": "markdown",
   "metadata": {},
   "source": [
    "## Task 2: Build Linear Regression Model of FHV vs Arrival data"
   ]
  },
  {
   "cell_type": "markdown",
   "metadata": {},
   "source": [
    "### Q1 (7pts). Build an OLS model with intercept (you may want to use smf.ols) over `train` using `arrival` as a sole predictor for `fhv` \n",
    "Check p-value for arrival. What does it indicate? Report the 99% confidence interval for arrival's coefficient"
   ]
  },
  {
   "cell_type": "code",
   "execution_count": 25,
   "metadata": {},
   "outputs": [
    {
     "name": "stdout",
     "output_type": "stream",
     "text": [
      "                            OLS Regression Results                            \n",
      "==============================================================================\n",
      "Dep. Variable:                    fhv   R-squared:                       0.564\n",
      "Model:                            OLS   Adj. R-squared:                  0.564\n",
      "Method:                 Least Squares   F-statistic:                     2784.\n",
      "Date:                Fri, 15 Nov 2019   Prob (F-statistic):               0.00\n",
      "Time:                        18:33:55   Log-Likelihood:                -13723.\n",
      "No. Observations:                2151   AIC:                         2.745e+04\n",
      "Df Residuals:                    2149   BIC:                         2.746e+04\n",
      "Df Model:                           1                                         \n",
      "Covariance Type:            nonrobust                                         \n",
      "==============================================================================\n",
      "                 coef    std err          t      P>|t|      [0.025      0.975]\n",
      "------------------------------------------------------------------------------\n",
      "Intercept     52.8056      5.127     10.299      0.000      42.751      62.860\n",
      "arrival       12.1403      0.230     52.763      0.000      11.689      12.592\n",
      "==============================================================================\n",
      "Omnibus:                      452.053   Durbin-Watson:                   0.630\n",
      "Prob(Omnibus):                  0.000   Jarque-Bera (JB):             1040.083\n",
      "Skew:                           1.168   Prob(JB):                    1.41e-226\n",
      "Kurtosis:                       5.479   Cond. No.                         37.2\n",
      "==============================================================================\n",
      "\n",
      "Warnings:\n",
      "[1] Standard Errors assume that the covariance matrix of the errors is correctly specified.\n"
     ]
    }
   ],
   "source": [
    "\n",
    "lm = smf.ols(formula='fhv~arrival', data = train).fit()\n",
    "print(lm.summary())\n",
    "\n",
    "\n",
    "#lm = smf.ols(formula='FHV~arrival', data = train).fit()\n",
    "#print(lm.summary())"
   ]
  },
  {
   "cell_type": "code",
   "execution_count": 26,
   "metadata": {},
   "outputs": [
    {
     "data": {
      "text/html": [
       "<div>\n",
       "<style scoped>\n",
       "    .dataframe tbody tr th:only-of-type {\n",
       "        vertical-align: middle;\n",
       "    }\n",
       "\n",
       "    .dataframe tbody tr th {\n",
       "        vertical-align: top;\n",
       "    }\n",
       "\n",
       "    .dataframe thead th {\n",
       "        text-align: right;\n",
       "    }\n",
       "</style>\n",
       "<table border=\"1\" class=\"dataframe\">\n",
       "  <thead>\n",
       "    <tr style=\"text-align: right;\">\n",
       "      <th></th>\n",
       "      <th>0</th>\n",
       "      <th>1</th>\n",
       "    </tr>\n",
       "  </thead>\n",
       "  <tbody>\n",
       "    <tr>\n",
       "      <th>Intercept</th>\n",
       "      <td>39.587185</td>\n",
       "      <td>66.024101</td>\n",
       "    </tr>\n",
       "    <tr>\n",
       "      <th>arrival</th>\n",
       "      <td>11.547115</td>\n",
       "      <td>12.733518</td>\n",
       "    </tr>\n",
       "  </tbody>\n",
       "</table>\n",
       "</div>"
      ],
      "text/plain": [
       "                   0          1\n",
       "Intercept  39.587185  66.024101\n",
       "arrival    11.547115  12.733518"
      ]
     },
     "execution_count": 26,
     "metadata": {},
     "output_type": "execute_result"
    }
   ],
   "source": [
    "lm.conf_int(alpha=0.01) # 99% CI"
   ]
  },
  {
   "cell_type": "code",
   "execution_count": 27,
   "metadata": {},
   "outputs": [],
   "source": [
    "#p-value for arrival is smaller than 0.05 indicates strong evidence against the null hypothesis, so I  reject the null hypothesis."
   ]
  },
  {
   "cell_type": "markdown",
   "metadata": {},
   "source": [
    "### Q2 (8pts): Consider Historical Impact \n",
    "by adding time lags - add all 9 lag variables into the regression above\n",
    "\n",
    "There is always some delay between passengers arrival and departure (e.g. passing customs, picking up luggage etc). `fhv` might be more related to historical values of flight arrivals (lag) rather than immediate `arrival`. Engineer a formulae with all the following variables and run the regression:\n",
    "* arrival, lag1, ..., lagN: that happens 1hr, ..., N=9 hr ahead.\n",
    "Which of the varialbes have statistically significant impact according to p-values?"
   ]
  },
  {
   "cell_type": "code",
   "execution_count": 28,
   "metadata": {},
   "outputs": [
    {
     "name": "stdout",
     "output_type": "stream",
     "text": [
      "                            OLS Regression Results                            \n",
      "==============================================================================\n",
      "Dep. Variable:                    fhv   R-squared:                       0.751\n",
      "Model:                            OLS   Adj. R-squared:                  0.751\n",
      "Method:                 Least Squares   F-statistic:                     2634.\n",
      "Date:                Fri, 15 Nov 2019   Prob (F-statistic):               0.00\n",
      "Time:                        18:33:55   Log-Likelihood:                -55479.\n",
      "No. Observations:                8751   AIC:                         1.110e+05\n",
      "Df Residuals:                    8740   BIC:                         1.111e+05\n",
      "Df Model:                          10                                         \n",
      "Covariance Type:            nonrobust                                         \n",
      "==============================================================================\n",
      "                 coef    std err          t      P>|t|      [0.025      0.975]\n",
      "------------------------------------------------------------------------------\n",
      "Intercept    -88.0712      3.998    -22.027      0.000     -95.909     -80.233\n",
      "arrival        5.2891      0.219     24.135      0.000       4.860       5.719\n",
      "lag1           9.9677      0.282     35.340      0.000       9.415      10.521\n",
      "lag2           4.5661      0.285     16.045      0.000       4.008       5.124\n",
      "lag3           0.2222      0.284      0.782      0.434      -0.335       0.779\n",
      "lag4          -0.3350      0.284     -1.178      0.239      -0.892       0.222\n",
      "lag5          -0.2023      0.284     -0.711      0.477      -0.760       0.355\n",
      "lag6          -0.1909      0.284     -0.672      0.502      -0.748       0.366\n",
      "lag7           0.6298      0.285      2.213      0.027       0.072       1.188\n",
      "lag8           1.1032      0.282      3.911      0.000       0.550       1.656\n",
      "lag9           2.5657      0.219     11.708      0.000       2.136       2.995\n",
      "==============================================================================\n",
      "Omnibus:                     1898.700   Durbin-Watson:                   0.577\n",
      "Prob(Omnibus):                  0.000   Jarque-Bera (JB):             6246.440\n",
      "Skew:                           1.090   Prob(JB):                         0.00\n",
      "Kurtosis:                       6.518   Cond. No.                         179.\n",
      "==============================================================================\n",
      "\n",
      "Warnings:\n",
      "[1] Standard Errors assume that the covariance matrix of the errors is correctly specified.\n"
     ]
    }
   ],
   "source": [
    "lm = smf.ols(formula='fhv~arrival+lag1+lag2+lag3+lag4+lag5+lag6+lag7+lag8+lag9', data = datasetL).fit()\n",
    "print(lm.summary())"
   ]
  },
  {
   "cell_type": "code",
   "execution_count": 29,
   "metadata": {},
   "outputs": [],
   "source": [
    "# P values for arrival, lag1, lag2,lag7,lag8 and lag9 are smaller than 0.05 so we can conlude that hey have significance"
   ]
  },
  {
   "cell_type": "markdown",
   "metadata": {},
   "source": [
    "## Q3 (5pts): Incorperate Temporal Patterns \n",
    "by adding categorical variables for day of week and hour \n",
    "\n",
    "From the visualization in task1Q3 you may see that both - `fhv` as well as arrivals follow a somewhat periodic temporal pattern. Intuitively, this is true for most traffic flows following daily rhytms including rush hours and also varying over the course of the week. Usually we add dummy/categorical variables (Boolean variable: 1 for True and 0 for False) to encapsulate people's traveling pattern during different time periods.\n",
    "\n",
    "Note that it would not make sense to add hour and dow as regular regressors as we can't anticipate their linear numeric impact. Instead expression `C(.)` could be used in the regression formulae in order to treat those variables as categorical adding corresponding dummy variables to account for their possible discrete values.\n",
    "\n",
    "Perform the regression of fhv agains arrival, lags and temporal categorical variables. Which of the varialbes have statistically significant impact according to p-values?"
   ]
  },
  {
   "cell_type": "code",
   "execution_count": 18,
   "metadata": {
    "scrolled": false
   },
   "outputs": [
    {
     "name": "stdout",
     "output_type": "stream",
     "text": [
      "                            OLS Regression Results                            \n",
      "==============================================================================\n",
      "Dep. Variable:                    fhv   R-squared:                       0.806\n",
      "Model:                            OLS   Adj. R-squared:                  0.805\n",
      "Method:                 Least Squares   F-statistic:                     925.7\n",
      "Date:                Fri, 15 Nov 2019   Prob (F-statistic):               0.00\n",
      "Time:                        19:55:29   Log-Likelihood:                -54393.\n",
      "No. Observations:                8751   AIC:                         1.089e+05\n",
      "Df Residuals:                    8711   BIC:                         1.091e+05\n",
      "Df Model:                          39                                         \n",
      "Covariance Type:            nonrobust                                         \n",
      "=================================================================================\n",
      "                    coef    std err          t      P>|t|      [0.025      0.975]\n",
      "---------------------------------------------------------------------------------\n",
      "Intercept        96.1299     11.428      8.412      0.000      73.729     118.531\n",
      "C(dow)[T.1]     -57.0123      4.851    -11.752      0.000     -66.522     -47.503\n",
      "C(dow)[T.2]     -48.1060      4.847     -9.925      0.000     -57.607     -38.605\n",
      "C(dow)[T.3]       0.6248      4.846      0.129      0.897      -8.875      10.124\n",
      "C(dow)[T.4]       0.9930      4.846      0.205      0.838      -8.506      10.492\n",
      "C(dow)[T.5]     -46.1034      5.307     -8.687      0.000     -56.507     -35.700\n",
      "C(dow)[T.6]      20.8524      5.117      4.075      0.000      10.823      30.882\n",
      "C(hour)[T.1]   -108.7554      9.705    -11.207      0.000    -127.779     -89.732\n",
      "C(hour)[T.2]    -90.0793     10.274     -8.768      0.000    -110.218     -69.940\n",
      "C(hour)[T.3]    -88.4962     10.853     -8.154      0.000    -109.770     -67.222\n",
      "C(hour)[T.4]    -95.7179     11.238     -8.518      0.000    -117.746     -73.689\n",
      "C(hour)[T.5]    -99.4244     11.552     -8.606      0.000    -122.070     -76.779\n",
      "C(hour)[T.6]   -108.4921     11.926     -9.097      0.000    -131.870     -85.114\n",
      "C(hour)[T.7]   -131.1989     13.803     -9.505      0.000    -158.257    -104.141\n",
      "C(hour)[T.8]   -165.3143     14.431    -11.455      0.000    -193.603    -137.025\n",
      "C(hour)[T.9]   -116.7464     14.458     -8.075      0.000    -145.087     -88.406\n",
      "C(hour)[T.10]  -104.3166     14.621     -7.135      0.000    -132.977     -75.656\n",
      "C(hour)[T.11]  -104.5161     13.668     -7.647      0.000    -131.308     -77.724\n",
      "C(hour)[T.12]   -90.9445     13.422     -6.776      0.000    -117.255     -64.634\n",
      "C(hour)[T.13]  -115.1755     13.447     -8.565      0.000    -141.536     -88.815\n",
      "C(hour)[T.14]   -58.5923     13.317     -4.400      0.000     -84.697     -32.487\n",
      "C(hour)[T.15]   -63.2802     12.645     -5.004      0.000     -88.067     -38.493\n",
      "C(hour)[T.16]   -40.6860     11.038     -3.686      0.000     -62.323     -19.049\n",
      "C(hour)[T.17]   -21.3987     10.769     -1.987      0.047     -42.509      -0.289\n",
      "C(hour)[T.18]     2.4447     10.596      0.231      0.818     -18.325      23.215\n",
      "C(hour)[T.19]    28.9214     10.573      2.736      0.006       8.197      49.646\n",
      "C(hour)[T.20]    18.1508     10.416      1.743      0.081      -2.266      38.568\n",
      "C(hour)[T.21]    94.7120     10.345      9.155      0.000      74.434     114.990\n",
      "C(hour)[T.22]   106.1776      9.813     10.820      0.000      86.942     125.414\n",
      "C(hour)[T.23]   144.4415      9.660     14.953      0.000     125.506     163.377\n",
      "arrival           5.8549      0.278     21.026      0.000       5.309       6.401\n",
      "lag1              8.5654      0.302     28.352      0.000       7.973       9.158\n",
      "lag2              2.9337      0.309      9.496      0.000       2.328       3.539\n",
      "lag3             -0.0483      0.309     -0.156      0.876      -0.654       0.557\n",
      "lag4             -0.6164      0.309     -1.997      0.046      -1.222      -0.011\n",
      "lag5             -0.2848      0.309     -0.922      0.357      -0.890       0.321\n",
      "lag6             -0.3875      0.309     -1.254      0.210      -0.993       0.218\n",
      "lag7             -0.1746      0.309     -0.565      0.572      -0.780       0.431\n",
      "lag8              0.1988      0.301      0.660      0.509      -0.392       0.789\n",
      "lag9              1.3957      0.276      5.057      0.000       0.855       1.937\n",
      "==============================================================================\n",
      "Omnibus:                     2150.211   Durbin-Watson:                   0.602\n",
      "Prob(Omnibus):                  0.000   Jarque-Bera (JB):             9647.146\n",
      "Skew:                           1.131   Prob(JB):                         0.00\n",
      "Kurtosis:                       7.620   Cond. No.                     2.14e+03\n",
      "==============================================================================\n",
      "\n",
      "Warnings:\n",
      "[1] Standard Errors assume that the covariance matrix of the errors is correctly specified.\n",
      "[2] The condition number is large, 2.14e+03. This might indicate that there are\n",
      "strong multicollinearity or other numerical problems.\n"
     ]
    }
   ],
   "source": [
    "\n",
    "lm_ = smf.ols(formula='fhv ~ arrival+lag1+lag2+lag3+lag4+lag5+lag6+lag7+lag8+lag9+C(dow)+C(hour)', data = datasetL).fit()\n",
    "print(lm_.summary())"
   ]
  },
  {
   "cell_type": "code",
   "execution_count": 32,
   "metadata": {},
   "outputs": [
    {
     "data": {
      "text/plain": [
       "Intercept         99.881459\n",
       "C(hour)[T.1]    -111.226890\n",
       "C(hour)[T.2]     -93.718215\n",
       "C(hour)[T.3]     -91.233420\n",
       "C(hour)[T.4]     -86.749916\n",
       "C(hour)[T.5]     -84.933021\n",
       "C(hour)[T.6]     -86.498740\n",
       "C(hour)[T.7]    -114.927620\n",
       "C(hour)[T.8]    -144.340052\n",
       "C(hour)[T.9]    -107.178594\n",
       "C(hour)[T.10]    -99.068726\n",
       "C(hour)[T.11]   -109.517853\n",
       "C(hour)[T.12]   -105.093018\n",
       "C(hour)[T.13]   -141.222340\n",
       "C(hour)[T.14]    -89.692649\n",
       "C(hour)[T.15]    -93.967740\n",
       "C(hour)[T.16]    -51.481376\n",
       "C(hour)[T.17]    -22.630052\n",
       "C(hour)[T.18]      0.665694\n",
       "C(hour)[T.19]     34.272215\n",
       "C(hour)[T.20]     14.927440\n",
       "C(hour)[T.21]     90.897063\n",
       "C(hour)[T.22]    105.128516\n",
       "C(hour)[T.23]    144.266762\n",
       "C(dow)[T.1]      -56.543439\n",
       "C(dow)[T.2]      -48.093156\n",
       "C(dow)[T.3]        0.776247\n",
       "C(dow)[T.4]        1.188675\n",
       "C(dow)[T.5]      -45.700162\n",
       "C(dow)[T.6]       19.327079\n",
       "arrival            5.943228\n",
       "lag1               8.467488\n",
       "lag2               2.521333\n",
       "lag7              -0.248378\n",
       "lag8               0.633198\n",
       "dtype: float64"
      ]
     },
     "execution_count": 32,
     "metadata": {},
     "output_type": "execute_result"
    }
   ],
   "source": [
    "\n",
    "lm__ .params"
   ]
  },
  {
   "cell_type": "markdown",
   "metadata": {},
   "source": [
    "### Q4 (10pts). Perform feature selection for lag variables\n",
    "As you may see not all the lag variables have statistically signifant impact on the regression. Maybe some of them are not really relevant?\n",
    "Try different amounts of lag variables m=0,1,...,9 (including lag1,lag2,...lagm in the regression for each m) using a loop for training the above regression over the training sample, report the out-of-sample R2 over the validation sample for each m and pick up m which maximizes it. Evaluate the final regression over test sample."
   ]
  },
  {
   "cell_type": "code",
   "execution_count": 20,
   "metadata": {},
   "outputs": [
    {
     "name": "stderr",
     "output_type": "stream",
     "text": [
      "C:\\Users\\ps336\\Anaconda3\\lib\\site-packages\\ipykernel_launcher.py:7: SettingWithCopyWarning: \n",
      "A value is trying to be set on a copy of a slice from a DataFrame.\n",
      "Try using .loc[row_indexer,col_indexer] = value instead\n",
      "\n",
      "See the caveats in the documentation: http://pandas.pydata.org/pandas-docs/stable/indexing.html#indexing-view-versus-copy\n",
      "  import sys\n"
     ]
    }
   ],
   "source": [
    "TrainR2=[0]*9\n",
    "ValidR2=[0]*9\n",
    "lm=[0]*9\n",
    "for M in range(1,10):\n",
    "    formula='fhv~ arrival+'+'+'*(M>1)+'+'.join(['lag%d'%p for p in range(1,M+1)]);\n",
    "    lm[M-1] = smf.ols(formula=formula, data = train).fit()\n",
    "    valid['pred']=lm[M-1].predict(valid)\n",
    "    ValidR2[M-1]=1-((valid.pred-valid.fhv)**2).sum()/((valid.fhv-valid.fhv.mean())**2).sum()\n",
    "    TrainR2[M-1]=lm[M-1].rsquared    \n",
    "    ValidR2"
   ]
  },
  {
   "cell_type": "code",
   "execution_count": 65,
   "metadata": {},
   "outputs": [
    {
     "data": {
      "text/plain": [
       "<matplotlib.legend.Legend at 0x1da78f7ce10>"
      ]
     },
     "execution_count": 65,
     "metadata": {},
     "output_type": "execute_result"
    },
    {
     "data": {
      "image/png": "[encoded data removed]",
      "text/plain": [
       "<Figure size 432x288 with 1 Axes>"
      ]
     },
     "metadata": {
      "needs_background": "light"
     },
     "output_type": "display_data"
    }
   ],
   "source": [
    "plt.plot(range(1,9),TrainR2[:8],'b-*',label='train')\n",
    "plt.plot(range(1,9),ValidR2[:8],'r-*',label='valid')\n",
    "plt.xlabel('M')\n",
    "plt.ylabel('R2')\n",
    "plt.ylim(-1,1.1)\n",
    "plt.xlim(1,9)\n",
    "plt.legend(loc='lower right')"
   ]
  },
  {
   "cell_type": "code",
   "execution_count": 21,
   "metadata": {},
   "outputs": [
    {
     "data": {
      "text/plain": [
       "[0.6104046036154404,\n",
       " 0.6289346673042764,\n",
       " 0.6290548648475776,\n",
       " 0.6307014017819867,\n",
       " 0.6350297005466263,\n",
       " 0.6410005682254218,\n",
       " 0.6511914941166321,\n",
       " 0.6594783712204204,\n",
       " 0.6654075435800096]"
      ]
     },
     "execution_count": 21,
     "metadata": {},
     "output_type": "execute_result"
    }
   ],
   "source": [
    "ValidR2"
   ]
  },
  {
   "cell_type": "code",
   "execution_count": 22,
   "metadata": {},
   "outputs": [
    {
     "data": {
      "text/plain": [
       "9"
      ]
     },
     "execution_count": 22,
     "metadata": {},
     "output_type": "execute_result"
    }
   ],
   "source": [
    "# finding the max Degree for max R2\n",
    "M=np.argmax(ValidR2)+1; M"
   ]
  },
  {
   "cell_type": "code",
   "execution_count": 23,
   "metadata": {},
   "outputs": [
    {
     "name": "stderr",
     "output_type": "stream",
     "text": [
      "C:\\Users\\ps336\\Anaconda3\\lib\\site-packages\\ipykernel_launcher.py:2: SettingWithCopyWarning: \n",
      "A value is trying to be set on a copy of a slice from a DataFrame.\n",
      "Try using .loc[row_indexer,col_indexer] = value instead\n",
      "\n",
      "See the caveats in the documentation: http://pandas.pydata.org/pandas-docs/stable/indexing.html#indexing-view-versus-copy\n",
      "  \n"
     ]
    },
    {
     "data": {
      "text/plain": [
       "0.5386270970722191"
      ]
     },
     "execution_count": 23,
     "metadata": {},
     "output_type": "execute_result"
    }
   ],
   "source": [
    "# Evaluating regression value over test sample\n",
    "test['ypred']=lm[M-1].predict(test)\n",
    "TestR2 = 1-((test.ypred-test.fhv)**2).sum()/((test.fhv-test.fhv.mean())**2).sum()\n",
    "TestR2"
   ]
  },
  {
   "cell_type": "markdown",
   "metadata": {},
   "source": [
    "### Q5 (10pts). Visualize temporal patterns and lag impacts through bar plots\n",
    "For the best regression above visualize:\n",
    "- bar plot of hour of the day vs its impact coefficient\n",
    "- bar plot of day of the week vs its impact coefficient\n",
    "- bar plot of the lag (0 for immediate arrivals, 1,2,... for lags)"
   ]
  },
  {
   "cell_type": "code",
   "execution_count": null,
   "metadata": {},
   "outputs": [],
   "source": [
    "# Check this online how to do bar plot"
   ]
  },
  {
   "cell_type": "code",
   "execution_count": 35,
   "metadata": {},
   "outputs": [
    {
     "data": {
      "text/html": [
       "<div>\n",
       "<style scoped>\n",
       "    .dataframe tbody tr th:only-of-type {\n",
       "        vertical-align: middle;\n",
       "    }\n",
       "\n",
       "    .dataframe tbody tr th {\n",
       "        vertical-align: top;\n",
       "    }\n",
       "\n",
       "    .dataframe thead th {\n",
       "        text-align: right;\n",
       "    }\n",
       "</style>\n",
       "<table border=\"1\" class=\"dataframe\">\n",
       "  <thead>\n",
       "    <tr style=\"text-align: right;\">\n",
       "      <th></th>\n",
       "      <th>date</th>\n",
       "      <th>arrival</th>\n",
       "      <th>fhv</th>\n",
       "      <th>hour</th>\n",
       "      <th>dow</th>\n",
       "      <th>day</th>\n",
       "      <th>lag1</th>\n",
       "      <th>lag2</th>\n",
       "      <th>lag3</th>\n",
       "      <th>lag4</th>\n",
       "      <th>lag5</th>\n",
       "      <th>lag6</th>\n",
       "      <th>lag7</th>\n",
       "      <th>lag8</th>\n",
       "      <th>lag9</th>\n",
       "    </tr>\n",
       "  </thead>\n",
       "  <tbody>\n",
       "    <tr>\n",
       "      <th>0</th>\n",
       "      <td>2018-01-01 09:00:00</td>\n",
       "      <td>15</td>\n",
       "      <td>228</td>\n",
       "      <td>9</td>\n",
       "      <td>0</td>\n",
       "      <td>0</td>\n",
       "      <td>14</td>\n",
       "      <td>5</td>\n",
       "      <td>0</td>\n",
       "      <td>0</td>\n",
       "      <td>0</td>\n",
       "      <td>0</td>\n",
       "      <td>1</td>\n",
       "      <td>0</td>\n",
       "      <td>3</td>\n",
       "    </tr>\n",
       "    <tr>\n",
       "      <th>1</th>\n",
       "      <td>2018-01-01 10:00:00</td>\n",
       "      <td>30</td>\n",
       "      <td>253</td>\n",
       "      <td>10</td>\n",
       "      <td>0</td>\n",
       "      <td>0</td>\n",
       "      <td>15</td>\n",
       "      <td>14</td>\n",
       "      <td>5</td>\n",
       "      <td>0</td>\n",
       "      <td>0</td>\n",
       "      <td>0</td>\n",
       "      <td>0</td>\n",
       "      <td>1</td>\n",
       "      <td>0</td>\n",
       "    </tr>\n",
       "    <tr>\n",
       "      <th>2</th>\n",
       "      <td>2018-01-01 11:00:00</td>\n",
       "      <td>18</td>\n",
       "      <td>405</td>\n",
       "      <td>11</td>\n",
       "      <td>0</td>\n",
       "      <td>0</td>\n",
       "      <td>30</td>\n",
       "      <td>15</td>\n",
       "      <td>14</td>\n",
       "      <td>5</td>\n",
       "      <td>0</td>\n",
       "      <td>0</td>\n",
       "      <td>0</td>\n",
       "      <td>0</td>\n",
       "      <td>1</td>\n",
       "    </tr>\n",
       "    <tr>\n",
       "      <th>3</th>\n",
       "      <td>2018-01-01 12:00:00</td>\n",
       "      <td>14</td>\n",
       "      <td>273</td>\n",
       "      <td>12</td>\n",
       "      <td>0</td>\n",
       "      <td>0</td>\n",
       "      <td>18</td>\n",
       "      <td>30</td>\n",
       "      <td>15</td>\n",
       "      <td>14</td>\n",
       "      <td>5</td>\n",
       "      <td>0</td>\n",
       "      <td>0</td>\n",
       "      <td>0</td>\n",
       "      <td>0</td>\n",
       "    </tr>\n",
       "    <tr>\n",
       "      <th>4</th>\n",
       "      <td>2018-01-01 13:00:00</td>\n",
       "      <td>20</td>\n",
       "      <td>254</td>\n",
       "      <td>13</td>\n",
       "      <td>0</td>\n",
       "      <td>0</td>\n",
       "      <td>14</td>\n",
       "      <td>18</td>\n",
       "      <td>30</td>\n",
       "      <td>15</td>\n",
       "      <td>14</td>\n",
       "      <td>5</td>\n",
       "      <td>0</td>\n",
       "      <td>0</td>\n",
       "      <td>0</td>\n",
       "    </tr>\n",
       "  </tbody>\n",
       "</table>\n",
       "</div>"
      ],
      "text/plain": [
       "                 date  arrival  fhv  hour  dow  day  lag1  lag2  lag3  lag4  \\\n",
       "0 2018-01-01 09:00:00       15  228     9    0    0    14     5     0     0   \n",
       "1 2018-01-01 10:00:00       30  253    10    0    0    15    14     5     0   \n",
       "2 2018-01-01 11:00:00       18  405    11    0    0    30    15    14     5   \n",
       "3 2018-01-01 12:00:00       14  273    12    0    0    18    30    15    14   \n",
       "4 2018-01-01 13:00:00       20  254    13    0    0    14    18    30    15   \n",
       "\n",
       "   lag5  lag6  lag7  lag8  lag9  \n",
       "0     0     0     1     0     3  \n",
       "1     0     0     0     1     0  \n",
       "2     0     0     0     0     1  \n",
       "3     5     0     0     0     0  \n",
       "4    14     5     0     0     0  "
      ]
     },
     "execution_count": 35,
     "metadata": {},
     "output_type": "execute_result"
    }
   ],
   "source": [
    "datasetL.head()"
   ]
  },
  {
   "cell_type": "code",
   "execution_count": 56,
   "metadata": {
    "scrolled": true
   },
   "outputs": [
    {
     "data": {
      "text/plain": [
       "[-111.22689027573449,\n",
       " -93.71821470022039,\n",
       " -91.23341961582003,\n",
       " -86.74991648247715,\n",
       " -84.93302140164414,\n",
       " -86.49874040294844,\n",
       " -114.92762036889943,\n",
       " -144.34005235661837,\n",
       " -107.1785944546653,\n",
       " -99.06872596204101,\n",
       " -109.51785276048447,\n",
       " -105.09301798536808,\n",
       " -141.22233990281535,\n",
       " -89.69264890785098,\n",
       " -93.96773975112487,\n",
       " -51.481375558708265,\n",
       " -22.630051580844224,\n",
       " 0.6656943840747545,\n",
       " 34.272214844960246,\n",
       " 14.927439977813705,\n",
       " 90.89706342705426,\n",
       " 105.12851618440743,\n",
       " 144.26676209028304]"
      ]
     },
     "execution_count": 56,
     "metadata": {},
     "output_type": "execute_result"
    }
   ],
   "source": [
    "l = lm__.params.iloc[1:24]\n",
    "list(l)"
   ]
  },
  {
   "cell_type": "code",
   "execution_count": 57,
   "metadata": {
    "scrolled": true
   },
   "outputs": [
    {
     "data": {
      "image/png": "[encoded data removed]",
      "text/plain": [
       "<Figure size 432x288 with 1 Axes>"
      ]
     },
     "metadata": {
      "needs_background": "light"
     },
     "output_type": "display_data"
    }
   ],
   "source": [
    "#bar plot of dow  vs its impact coefficient\n",
    "bars = l.index.tolist()\n",
    "height = list(l)\n",
    "y_pos = np.arange(len(bars))\n",
    " \n",
    "# Create bars\n",
    "plt.bar(y_pos, height)\n",
    " \n",
    "# Create names on the x-axis\n",
    "plt.xticks(y_pos, bars, rotation=90)\n",
    " \n",
    "# Show graphic\n",
    "plt.show()\n"
   ]
  },
  {
   "cell_type": "code",
   "execution_count": 70,
   "metadata": {},
   "outputs": [
    {
     "data": {
      "text/plain": [
       "[-56.543439251897695,\n",
       " -48.09315616894704,\n",
       " 0.776247116959492,\n",
       " 1.1886749528293103,\n",
       " -45.7001621235478,\n",
       " 19.327079115006853]"
      ]
     },
     "execution_count": 70,
     "metadata": {},
     "output_type": "execute_result"
    }
   ],
   "source": [
    "#bar plot of week  of the day vs its impact coefficient\n",
    "\n",
    "\n",
    "ll = lm__.params.iloc[24:30]\n",
    "list(ll)\n"
   ]
  },
  {
   "cell_type": "code",
   "execution_count": 71,
   "metadata": {},
   "outputs": [
    {
     "ename": "ValueError",
     "evalue": "shape mismatch: objects cannot be broadcast to a single shape",
     "output_type": "error",
     "traceback": [
      "\u001b[1;31m---------------------------------------------------------------------------\u001b[0m",
      "\u001b[1;31mValueError\u001b[0m                                Traceback (most recent call last)",
      "\u001b[1;32m<ipython-input-71-445f0cfd6a25>\u001b[0m in \u001b[0;36m<module>\u001b[1;34m\u001b[0m\n\u001b[0;32m      5\u001b[0m \u001b[1;33m\u001b[0m\u001b[0m\n\u001b[0;32m      6\u001b[0m \u001b[1;31m# Create bars\u001b[0m\u001b[1;33m\u001b[0m\u001b[1;33m\u001b[0m\u001b[1;33m\u001b[0m\u001b[0m\n\u001b[1;32m----> 7\u001b[1;33m \u001b[0mplt\u001b[0m\u001b[1;33m.\u001b[0m\u001b[0mbar\u001b[0m\u001b[1;33m(\u001b[0m\u001b[0my_pos\u001b[0m\u001b[1;33m,\u001b[0m \u001b[0mheight\u001b[0m\u001b[1;33m)\u001b[0m\u001b[1;33m\u001b[0m\u001b[1;33m\u001b[0m\u001b[0m\n\u001b[0m\u001b[0;32m      8\u001b[0m \u001b[1;33m\u001b[0m\u001b[0m\n\u001b[0;32m      9\u001b[0m \u001b[1;31m# Create names on the x-axis\u001b[0m\u001b[1;33m\u001b[0m\u001b[1;33m\u001b[0m\u001b[1;33m\u001b[0m\u001b[0m\n",
      "\u001b[1;32m~\\Anaconda3\\lib\\site-packages\\matplotlib\\pyplot.py\u001b[0m in \u001b[0;36mbar\u001b[1;34m(x, height, width, bottom, align, data, **kwargs)\u001b[0m\n\u001b[0;32m   2432\u001b[0m     return gca().bar(\n\u001b[0;32m   2433\u001b[0m         \u001b[0mx\u001b[0m\u001b[1;33m,\u001b[0m \u001b[0mheight\u001b[0m\u001b[1;33m,\u001b[0m \u001b[0mwidth\u001b[0m\u001b[1;33m=\u001b[0m\u001b[0mwidth\u001b[0m\u001b[1;33m,\u001b[0m \u001b[0mbottom\u001b[0m\u001b[1;33m=\u001b[0m\u001b[0mbottom\u001b[0m\u001b[1;33m,\u001b[0m \u001b[0malign\u001b[0m\u001b[1;33m=\u001b[0m\u001b[0malign\u001b[0m\u001b[1;33m,\u001b[0m\u001b[1;33m\u001b[0m\u001b[1;33m\u001b[0m\u001b[0m\n\u001b[1;32m-> 2434\u001b[1;33m         **({\"data\": data} if data is not None else {}), **kwargs)\n\u001b[0m\u001b[0;32m   2435\u001b[0m \u001b[1;33m\u001b[0m\u001b[0m\n\u001b[0;32m   2436\u001b[0m \u001b[1;33m\u001b[0m\u001b[0m\n",
      "\u001b[1;32m~\\Anaconda3\\lib\\site-packages\\matplotlib\\__init__.py\u001b[0m in \u001b[0;36minner\u001b[1;34m(ax, data, *args, **kwargs)\u001b[0m\n\u001b[0;32m   1587\u001b[0m     \u001b[1;32mdef\u001b[0m \u001b[0minner\u001b[0m\u001b[1;33m(\u001b[0m\u001b[0max\u001b[0m\u001b[1;33m,\u001b[0m \u001b[1;33m*\u001b[0m\u001b[0margs\u001b[0m\u001b[1;33m,\u001b[0m \u001b[0mdata\u001b[0m\u001b[1;33m=\u001b[0m\u001b[1;32mNone\u001b[0m\u001b[1;33m,\u001b[0m \u001b[1;33m**\u001b[0m\u001b[0mkwargs\u001b[0m\u001b[1;33m)\u001b[0m\u001b[1;33m:\u001b[0m\u001b[1;33m\u001b[0m\u001b[1;33m\u001b[0m\u001b[0m\n\u001b[0;32m   1588\u001b[0m         \u001b[1;32mif\u001b[0m \u001b[0mdata\u001b[0m \u001b[1;32mis\u001b[0m \u001b[1;32mNone\u001b[0m\u001b[1;33m:\u001b[0m\u001b[1;33m\u001b[0m\u001b[1;33m\u001b[0m\u001b[0m\n\u001b[1;32m-> 1589\u001b[1;33m             \u001b[1;32mreturn\u001b[0m \u001b[0mfunc\u001b[0m\u001b[1;33m(\u001b[0m\u001b[0max\u001b[0m\u001b[1;33m,\u001b[0m \u001b[1;33m*\u001b[0m\u001b[0mmap\u001b[0m\u001b[1;33m(\u001b[0m\u001b[0msanitize_sequence\u001b[0m\u001b[1;33m,\u001b[0m \u001b[0margs\u001b[0m\u001b[1;33m)\u001b[0m\u001b[1;33m,\u001b[0m \u001b[1;33m**\u001b[0m\u001b[0mkwargs\u001b[0m\u001b[1;33m)\u001b[0m\u001b[1;33m\u001b[0m\u001b[1;33m\u001b[0m\u001b[0m\n\u001b[0m\u001b[0;32m   1590\u001b[0m \u001b[1;33m\u001b[0m\u001b[0m\n\u001b[0;32m   1591\u001b[0m         \u001b[0mbound\u001b[0m \u001b[1;33m=\u001b[0m \u001b[0mnew_sig\u001b[0m\u001b[1;33m.\u001b[0m\u001b[0mbind\u001b[0m\u001b[1;33m(\u001b[0m\u001b[0max\u001b[0m\u001b[1;33m,\u001b[0m \u001b[1;33m*\u001b[0m\u001b[0margs\u001b[0m\u001b[1;33m,\u001b[0m \u001b[1;33m**\u001b[0m\u001b[0mkwargs\u001b[0m\u001b[1;33m)\u001b[0m\u001b[1;33m\u001b[0m\u001b[1;33m\u001b[0m\u001b[0m\n",
      "\u001b[1;32m~\\Anaconda3\\lib\\site-packages\\matplotlib\\axes\\_axes.py\u001b[0m in \u001b[0;36mbar\u001b[1;34m(self, x, height, width, bottom, align, **kwargs)\u001b[0m\n\u001b[0;32m   2373\u001b[0m         x, height, width, y, linewidth = np.broadcast_arrays(\n\u001b[0;32m   2374\u001b[0m             \u001b[1;31m# Make args iterable too.\u001b[0m\u001b[1;33m\u001b[0m\u001b[1;33m\u001b[0m\u001b[1;33m\u001b[0m\u001b[0m\n\u001b[1;32m-> 2375\u001b[1;33m             np.atleast_1d(x), height, width, y, linewidth)\n\u001b[0m\u001b[0;32m   2376\u001b[0m \u001b[1;33m\u001b[0m\u001b[0m\n\u001b[0;32m   2377\u001b[0m         \u001b[1;31m# Now that units have been converted, set the tick locations.\u001b[0m\u001b[1;33m\u001b[0m\u001b[1;33m\u001b[0m\u001b[1;33m\u001b[0m\u001b[0m\n",
      "\u001b[1;32m~\\Anaconda3\\lib\\site-packages\\numpy\\lib\\stride_tricks.py\u001b[0m in \u001b[0;36mbroadcast_arrays\u001b[1;34m(*args, **kwargs)\u001b[0m\n\u001b[0;32m    257\u001b[0m     \u001b[0margs\u001b[0m \u001b[1;33m=\u001b[0m \u001b[1;33m[\u001b[0m\u001b[0mnp\u001b[0m\u001b[1;33m.\u001b[0m\u001b[0marray\u001b[0m\u001b[1;33m(\u001b[0m\u001b[0m_m\u001b[0m\u001b[1;33m,\u001b[0m \u001b[0mcopy\u001b[0m\u001b[1;33m=\u001b[0m\u001b[1;32mFalse\u001b[0m\u001b[1;33m,\u001b[0m \u001b[0msubok\u001b[0m\u001b[1;33m=\u001b[0m\u001b[0msubok\u001b[0m\u001b[1;33m)\u001b[0m \u001b[1;32mfor\u001b[0m \u001b[0m_m\u001b[0m \u001b[1;32min\u001b[0m \u001b[0margs\u001b[0m\u001b[1;33m]\u001b[0m\u001b[1;33m\u001b[0m\u001b[1;33m\u001b[0m\u001b[0m\n\u001b[0;32m    258\u001b[0m \u001b[1;33m\u001b[0m\u001b[0m\n\u001b[1;32m--> 259\u001b[1;33m     \u001b[0mshape\u001b[0m \u001b[1;33m=\u001b[0m \u001b[0m_broadcast_shape\u001b[0m\u001b[1;33m(\u001b[0m\u001b[1;33m*\u001b[0m\u001b[0margs\u001b[0m\u001b[1;33m)\u001b[0m\u001b[1;33m\u001b[0m\u001b[1;33m\u001b[0m\u001b[0m\n\u001b[0m\u001b[0;32m    260\u001b[0m \u001b[1;33m\u001b[0m\u001b[0m\n\u001b[0;32m    261\u001b[0m     \u001b[1;32mif\u001b[0m \u001b[0mall\u001b[0m\u001b[1;33m(\u001b[0m\u001b[0marray\u001b[0m\u001b[1;33m.\u001b[0m\u001b[0mshape\u001b[0m \u001b[1;33m==\u001b[0m \u001b[0mshape\u001b[0m \u001b[1;32mfor\u001b[0m \u001b[0marray\u001b[0m \u001b[1;32min\u001b[0m \u001b[0margs\u001b[0m\u001b[1;33m)\u001b[0m\u001b[1;33m:\u001b[0m\u001b[1;33m\u001b[0m\u001b[1;33m\u001b[0m\u001b[0m\n",
      "\u001b[1;32m~\\Anaconda3\\lib\\site-packages\\numpy\\lib\\stride_tricks.py\u001b[0m in \u001b[0;36m_broadcast_shape\u001b[1;34m(*args)\u001b[0m\n\u001b[0;32m    191\u001b[0m     \u001b[1;31m# use the old-iterator because np.nditer does not handle size 0 arrays\u001b[0m\u001b[1;33m\u001b[0m\u001b[1;33m\u001b[0m\u001b[1;33m\u001b[0m\u001b[0m\n\u001b[0;32m    192\u001b[0m     \u001b[1;31m# consistently\u001b[0m\u001b[1;33m\u001b[0m\u001b[1;33m\u001b[0m\u001b[1;33m\u001b[0m\u001b[0m\n\u001b[1;32m--> 193\u001b[1;33m     \u001b[0mb\u001b[0m \u001b[1;33m=\u001b[0m \u001b[0mnp\u001b[0m\u001b[1;33m.\u001b[0m\u001b[0mbroadcast\u001b[0m\u001b[1;33m(\u001b[0m\u001b[1;33m*\u001b[0m\u001b[0margs\u001b[0m\u001b[1;33m[\u001b[0m\u001b[1;33m:\u001b[0m\u001b[1;36m32\u001b[0m\u001b[1;33m]\u001b[0m\u001b[1;33m)\u001b[0m\u001b[1;33m\u001b[0m\u001b[1;33m\u001b[0m\u001b[0m\n\u001b[0m\u001b[0;32m    194\u001b[0m     \u001b[1;31m# unfortunately, it cannot handle 32 or more arguments directly\u001b[0m\u001b[1;33m\u001b[0m\u001b[1;33m\u001b[0m\u001b[1;33m\u001b[0m\u001b[0m\n\u001b[0;32m    195\u001b[0m     \u001b[1;32mfor\u001b[0m \u001b[0mpos\u001b[0m \u001b[1;32min\u001b[0m \u001b[0mrange\u001b[0m\u001b[1;33m(\u001b[0m\u001b[1;36m32\u001b[0m\u001b[1;33m,\u001b[0m \u001b[0mlen\u001b[0m\u001b[1;33m(\u001b[0m\u001b[0margs\u001b[0m\u001b[1;33m)\u001b[0m\u001b[1;33m,\u001b[0m \u001b[1;36m31\u001b[0m\u001b[1;33m)\u001b[0m\u001b[1;33m:\u001b[0m\u001b[1;33m\u001b[0m\u001b[1;33m\u001b[0m\u001b[0m\n",
      "\u001b[1;31mValueError\u001b[0m: shape mismatch: objects cannot be broadcast to a single shape"
     ]
    },
    {
     "data": {
      "image/png": "[encoded data removed]",
      "text/plain": [
       "<Figure size 432x288 with 1 Axes>"
      ]
     },
     "metadata": {
      "needs_background": "light"
     },
     "output_type": "display_data"
    }
   ],
   "source": [
    "#bar plot of dow  vs its impact coefficient\n",
    "bars = ll.index.tolist()\n",
    "height = list(l)\n",
    "y_pos = np.arange(len(bars))\n",
    " \n",
    "# Create bars\n",
    "plt.bar(y_pos, height)\n",
    " \n",
    "# Create names on the x-axis\n",
    "plt.xticks(y_pos, bars, rotation=90)\n",
    " \n",
    "# Show graphic\n",
    "plt.show()\n"
   ]
  },
  {
   "cell_type": "markdown",
   "metadata": {},
   "source": [
    "## Task 3. Cluster the days of the year based on the relative timeline of their FHV departures from the airport"
   ]
  },
  {
   "cell_type": "markdown",
   "metadata": {},
   "source": [
    "### Q1 (8pts). From the entire `dataset`, create a dataframe with days as rows, hours as columns and FHV ridership as values (feel free to use pd.pivottable). Normalize by the total daily ridership"
   ]
  },
  {
   "cell_type": "code",
   "execution_count": 39,
   "metadata": {},
   "outputs": [],
   "source": [
    "#pivot_dataset=df.pivot_table('value_column','row_column','column_column',aggfunc=np.mean)\n",
    "#dataset=datasetL.pivot_table('value_day','row_day','column_hour')\n",
    "\n",
    "table = pd.pivot_table(dataset, values='fhv', index=['day'],columns=['hour'], aggfunc=np.sum, fill_value=0)\n"
   ]
  },
  {
   "cell_type": "code",
   "execution_count": 40,
   "metadata": {},
   "outputs": [
    {
     "data": {
      "text/html": [
       "<div>\n",
       "<style scoped>\n",
       "    .dataframe tbody tr th:only-of-type {\n",
       "        vertical-align: middle;\n",
       "    }\n",
       "\n",
       "    .dataframe tbody tr th {\n",
       "        vertical-align: top;\n",
       "    }\n",
       "\n",
       "    .dataframe thead th {\n",
       "        text-align: right;\n",
       "    }\n",
       "</style>\n",
       "<table border=\"1\" class=\"dataframe\">\n",
       "  <thead>\n",
       "    <tr style=\"text-align: right;\">\n",
       "      <th>hour</th>\n",
       "      <th>0</th>\n",
       "      <th>1</th>\n",
       "      <th>2</th>\n",
       "      <th>3</th>\n",
       "      <th>4</th>\n",
       "      <th>5</th>\n",
       "      <th>6</th>\n",
       "      <th>7</th>\n",
       "      <th>8</th>\n",
       "      <th>9</th>\n",
       "      <th>...</th>\n",
       "      <th>14</th>\n",
       "      <th>15</th>\n",
       "      <th>16</th>\n",
       "      <th>17</th>\n",
       "      <th>18</th>\n",
       "      <th>19</th>\n",
       "      <th>20</th>\n",
       "      <th>21</th>\n",
       "      <th>22</th>\n",
       "      <th>23</th>\n",
       "    </tr>\n",
       "    <tr>\n",
       "      <th>day</th>\n",
       "      <th></th>\n",
       "      <th></th>\n",
       "      <th></th>\n",
       "      <th></th>\n",
       "      <th></th>\n",
       "      <th></th>\n",
       "      <th></th>\n",
       "      <th></th>\n",
       "      <th></th>\n",
       "      <th></th>\n",
       "      <th></th>\n",
       "      <th></th>\n",
       "      <th></th>\n",
       "      <th></th>\n",
       "      <th></th>\n",
       "      <th></th>\n",
       "      <th></th>\n",
       "      <th></th>\n",
       "      <th></th>\n",
       "      <th></th>\n",
       "      <th></th>\n",
       "    </tr>\n",
       "  </thead>\n",
       "  <tbody>\n",
       "    <tr>\n",
       "      <th>0</th>\n",
       "      <td>89</td>\n",
       "      <td>17</td>\n",
       "      <td>2</td>\n",
       "      <td>2</td>\n",
       "      <td>10</td>\n",
       "      <td>12</td>\n",
       "      <td>7</td>\n",
       "      <td>21</td>\n",
       "      <td>116</td>\n",
       "      <td>228</td>\n",
       "      <td>...</td>\n",
       "      <td>341</td>\n",
       "      <td>395</td>\n",
       "      <td>384</td>\n",
       "      <td>575</td>\n",
       "      <td>414</td>\n",
       "      <td>361</td>\n",
       "      <td>353</td>\n",
       "      <td>537</td>\n",
       "      <td>725</td>\n",
       "      <td>679</td>\n",
       "    </tr>\n",
       "    <tr>\n",
       "      <th>1</th>\n",
       "      <td>443</td>\n",
       "      <td>40</td>\n",
       "      <td>14</td>\n",
       "      <td>1</td>\n",
       "      <td>6</td>\n",
       "      <td>10</td>\n",
       "      <td>8</td>\n",
       "      <td>121</td>\n",
       "      <td>248</td>\n",
       "      <td>564</td>\n",
       "      <td>...</td>\n",
       "      <td>401</td>\n",
       "      <td>273</td>\n",
       "      <td>375</td>\n",
       "      <td>447</td>\n",
       "      <td>481</td>\n",
       "      <td>471</td>\n",
       "      <td>418</td>\n",
       "      <td>568</td>\n",
       "      <td>610</td>\n",
       "      <td>407</td>\n",
       "    </tr>\n",
       "    <tr>\n",
       "      <th>2</th>\n",
       "      <td>409</td>\n",
       "      <td>211</td>\n",
       "      <td>15</td>\n",
       "      <td>3</td>\n",
       "      <td>9</td>\n",
       "      <td>7</td>\n",
       "      <td>22</td>\n",
       "      <td>72</td>\n",
       "      <td>235</td>\n",
       "      <td>361</td>\n",
       "      <td>...</td>\n",
       "      <td>266</td>\n",
       "      <td>304</td>\n",
       "      <td>400</td>\n",
       "      <td>500</td>\n",
       "      <td>384</td>\n",
       "      <td>320</td>\n",
       "      <td>217</td>\n",
       "      <td>256</td>\n",
       "      <td>308</td>\n",
       "      <td>173</td>\n",
       "    </tr>\n",
       "    <tr>\n",
       "      <th>3</th>\n",
       "      <td>172</td>\n",
       "      <td>11</td>\n",
       "      <td>3</td>\n",
       "      <td>2</td>\n",
       "      <td>7</td>\n",
       "      <td>10</td>\n",
       "      <td>26</td>\n",
       "      <td>17</td>\n",
       "      <td>20</td>\n",
       "      <td>20</td>\n",
       "      <td>...</td>\n",
       "      <td>69</td>\n",
       "      <td>72</td>\n",
       "      <td>39</td>\n",
       "      <td>40</td>\n",
       "      <td>23</td>\n",
       "      <td>26</td>\n",
       "      <td>24</td>\n",
       "      <td>31</td>\n",
       "      <td>36</td>\n",
       "      <td>41</td>\n",
       "    </tr>\n",
       "    <tr>\n",
       "      <th>4</th>\n",
       "      <td>237</td>\n",
       "      <td>101</td>\n",
       "      <td>11</td>\n",
       "      <td>10</td>\n",
       "      <td>2</td>\n",
       "      <td>13</td>\n",
       "      <td>18</td>\n",
       "      <td>57</td>\n",
       "      <td>44</td>\n",
       "      <td>115</td>\n",
       "      <td>...</td>\n",
       "      <td>293</td>\n",
       "      <td>375</td>\n",
       "      <td>353</td>\n",
       "      <td>505</td>\n",
       "      <td>483</td>\n",
       "      <td>544</td>\n",
       "      <td>485</td>\n",
       "      <td>551</td>\n",
       "      <td>459</td>\n",
       "      <td>608</td>\n",
       "    </tr>\n",
       "  </tbody>\n",
       "</table>\n",
       "<p>5 rows × 24 columns</p>\n",
       "</div>"
      ],
      "text/plain": [
       "hour   0    1   2   3   4   5   6    7    8    9   ...   14   15   16   17  \\\n",
       "day                                                ...                       \n",
       "0      89   17   2   2  10  12   7   21  116  228  ...  341  395  384  575   \n",
       "1     443   40  14   1   6  10   8  121  248  564  ...  401  273  375  447   \n",
       "2     409  211  15   3   9   7  22   72  235  361  ...  266  304  400  500   \n",
       "3     172   11   3   2   7  10  26   17   20   20  ...   69   72   39   40   \n",
       "4     237  101  11  10   2  13  18   57   44  115  ...  293  375  353  505   \n",
       "\n",
       "hour   18   19   20   21   22   23  \n",
       "day                                 \n",
       "0     414  361  353  537  725  679  \n",
       "1     481  471  418  568  610  407  \n",
       "2     384  320  217  256  308  173  \n",
       "3      23   26   24   31   36   41  \n",
       "4     483  544  485  551  459  608  \n",
       "\n",
       "[5 rows x 24 columns]"
      ]
     },
     "execution_count": 40,
     "metadata": {},
     "output_type": "execute_result"
    }
   ],
   "source": [
    "table.head()"
   ]
  },
  {
   "cell_type": "code",
   "execution_count": 41,
   "metadata": {},
   "outputs": [],
   "source": [
    "\n",
    "table=table.div(table.sum(axis=1), axis=0)\n"
   ]
  },
  {
   "cell_type": "code",
   "execution_count": 42,
   "metadata": {},
   "outputs": [
    {
     "data": {
      "text/html": [
       "<div>\n",
       "<style scoped>\n",
       "    .dataframe tbody tr th:only-of-type {\n",
       "        vertical-align: middle;\n",
       "    }\n",
       "\n",
       "    .dataframe tbody tr th {\n",
       "        vertical-align: top;\n",
       "    }\n",
       "\n",
       "    .dataframe thead th {\n",
       "        text-align: right;\n",
       "    }\n",
       "</style>\n",
       "<table border=\"1\" class=\"dataframe\">\n",
       "  <thead>\n",
       "    <tr style=\"text-align: right;\">\n",
       "      <th>hour</th>\n",
       "      <th>0</th>\n",
       "      <th>1</th>\n",
       "      <th>2</th>\n",
       "      <th>3</th>\n",
       "      <th>4</th>\n",
       "      <th>5</th>\n",
       "      <th>6</th>\n",
       "      <th>7</th>\n",
       "      <th>8</th>\n",
       "      <th>9</th>\n",
       "      <th>...</th>\n",
       "      <th>14</th>\n",
       "      <th>15</th>\n",
       "      <th>16</th>\n",
       "      <th>17</th>\n",
       "      <th>18</th>\n",
       "      <th>19</th>\n",
       "      <th>20</th>\n",
       "      <th>21</th>\n",
       "      <th>22</th>\n",
       "      <th>23</th>\n",
       "    </tr>\n",
       "    <tr>\n",
       "      <th>day</th>\n",
       "      <th></th>\n",
       "      <th></th>\n",
       "      <th></th>\n",
       "      <th></th>\n",
       "      <th></th>\n",
       "      <th></th>\n",
       "      <th></th>\n",
       "      <th></th>\n",
       "      <th></th>\n",
       "      <th></th>\n",
       "      <th></th>\n",
       "      <th></th>\n",
       "      <th></th>\n",
       "      <th></th>\n",
       "      <th></th>\n",
       "      <th></th>\n",
       "      <th></th>\n",
       "      <th></th>\n",
       "      <th></th>\n",
       "      <th></th>\n",
       "      <th></th>\n",
       "    </tr>\n",
       "  </thead>\n",
       "  <tbody>\n",
       "    <tr>\n",
       "      <th>0</th>\n",
       "      <td>0.013792</td>\n",
       "      <td>0.002634</td>\n",
       "      <td>0.000310</td>\n",
       "      <td>0.000310</td>\n",
       "      <td>0.001550</td>\n",
       "      <td>0.001860</td>\n",
       "      <td>0.001085</td>\n",
       "      <td>0.003254</td>\n",
       "      <td>0.017976</td>\n",
       "      <td>0.035332</td>\n",
       "      <td>...</td>\n",
       "      <td>0.052844</td>\n",
       "      <td>0.061212</td>\n",
       "      <td>0.059507</td>\n",
       "      <td>0.089106</td>\n",
       "      <td>0.064156</td>\n",
       "      <td>0.055943</td>\n",
       "      <td>0.054703</td>\n",
       "      <td>0.083217</td>\n",
       "      <td>0.112351</td>\n",
       "      <td>0.105222</td>\n",
       "    </tr>\n",
       "    <tr>\n",
       "      <th>1</th>\n",
       "      <td>0.059607</td>\n",
       "      <td>0.005382</td>\n",
       "      <td>0.001884</td>\n",
       "      <td>0.000135</td>\n",
       "      <td>0.000807</td>\n",
       "      <td>0.001346</td>\n",
       "      <td>0.001076</td>\n",
       "      <td>0.016281</td>\n",
       "      <td>0.033369</td>\n",
       "      <td>0.075888</td>\n",
       "      <td>...</td>\n",
       "      <td>0.053956</td>\n",
       "      <td>0.036733</td>\n",
       "      <td>0.050457</td>\n",
       "      <td>0.060145</td>\n",
       "      <td>0.064720</td>\n",
       "      <td>0.063375</td>\n",
       "      <td>0.056243</td>\n",
       "      <td>0.076426</td>\n",
       "      <td>0.082078</td>\n",
       "      <td>0.054763</td>\n",
       "    </tr>\n",
       "    <tr>\n",
       "      <th>2</th>\n",
       "      <td>0.071604</td>\n",
       "      <td>0.036940</td>\n",
       "      <td>0.002626</td>\n",
       "      <td>0.000525</td>\n",
       "      <td>0.001576</td>\n",
       "      <td>0.001225</td>\n",
       "      <td>0.003852</td>\n",
       "      <td>0.012605</td>\n",
       "      <td>0.041141</td>\n",
       "      <td>0.063200</td>\n",
       "      <td>...</td>\n",
       "      <td>0.046569</td>\n",
       "      <td>0.053221</td>\n",
       "      <td>0.070028</td>\n",
       "      <td>0.087535</td>\n",
       "      <td>0.067227</td>\n",
       "      <td>0.056022</td>\n",
       "      <td>0.037990</td>\n",
       "      <td>0.044818</td>\n",
       "      <td>0.053922</td>\n",
       "      <td>0.030287</td>\n",
       "    </tr>\n",
       "    <tr>\n",
       "      <th>3</th>\n",
       "      <td>0.186957</td>\n",
       "      <td>0.011957</td>\n",
       "      <td>0.003261</td>\n",
       "      <td>0.002174</td>\n",
       "      <td>0.007609</td>\n",
       "      <td>0.010870</td>\n",
       "      <td>0.028261</td>\n",
       "      <td>0.018478</td>\n",
       "      <td>0.021739</td>\n",
       "      <td>0.021739</td>\n",
       "      <td>...</td>\n",
       "      <td>0.075000</td>\n",
       "      <td>0.078261</td>\n",
       "      <td>0.042391</td>\n",
       "      <td>0.043478</td>\n",
       "      <td>0.025000</td>\n",
       "      <td>0.028261</td>\n",
       "      <td>0.026087</td>\n",
       "      <td>0.033696</td>\n",
       "      <td>0.039130</td>\n",
       "      <td>0.044565</td>\n",
       "    </tr>\n",
       "    <tr>\n",
       "      <th>4</th>\n",
       "      <td>0.037571</td>\n",
       "      <td>0.016011</td>\n",
       "      <td>0.001744</td>\n",
       "      <td>0.001585</td>\n",
       "      <td>0.000317</td>\n",
       "      <td>0.002061</td>\n",
       "      <td>0.002854</td>\n",
       "      <td>0.009036</td>\n",
       "      <td>0.006975</td>\n",
       "      <td>0.018231</td>\n",
       "      <td>...</td>\n",
       "      <td>0.046449</td>\n",
       "      <td>0.059448</td>\n",
       "      <td>0.055961</td>\n",
       "      <td>0.080057</td>\n",
       "      <td>0.076569</td>\n",
       "      <td>0.086240</td>\n",
       "      <td>0.076886</td>\n",
       "      <td>0.087349</td>\n",
       "      <td>0.072765</td>\n",
       "      <td>0.096386</td>\n",
       "    </tr>\n",
       "  </tbody>\n",
       "</table>\n",
       "<p>5 rows × 24 columns</p>\n",
       "</div>"
      ],
      "text/plain": [
       "hour        0         1         2         3         4         5         6   \\\n",
       "day                                                                          \n",
       "0     0.013792  0.002634  0.000310  0.000310  0.001550  0.001860  0.001085   \n",
       "1     0.059607  0.005382  0.001884  0.000135  0.000807  0.001346  0.001076   \n",
       "2     0.071604  0.036940  0.002626  0.000525  0.001576  0.001225  0.003852   \n",
       "3     0.186957  0.011957  0.003261  0.002174  0.007609  0.010870  0.028261   \n",
       "4     0.037571  0.016011  0.001744  0.001585  0.000317  0.002061  0.002854   \n",
       "\n",
       "hour        7         8         9   ...        14        15        16  \\\n",
       "day                                 ...                                 \n",
       "0     0.003254  0.017976  0.035332  ...  0.052844  0.061212  0.059507   \n",
       "1     0.016281  0.033369  0.075888  ...  0.053956  0.036733  0.050457   \n",
       "2     0.012605  0.041141  0.063200  ...  0.046569  0.053221  0.070028   \n",
       "3     0.018478  0.021739  0.021739  ...  0.075000  0.078261  0.042391   \n",
       "4     0.009036  0.006975  0.018231  ...  0.046449  0.059448  0.055961   \n",
       "\n",
       "hour        17        18        19        20        21        22        23  \n",
       "day                                                                         \n",
       "0     0.089106  0.064156  0.055943  0.054703  0.083217  0.112351  0.105222  \n",
       "1     0.060145  0.064720  0.063375  0.056243  0.076426  0.082078  0.054763  \n",
       "2     0.087535  0.067227  0.056022  0.037990  0.044818  0.053922  0.030287  \n",
       "3     0.043478  0.025000  0.028261  0.026087  0.033696  0.039130  0.044565  \n",
       "4     0.080057  0.076569  0.086240  0.076886  0.087349  0.072765  0.096386  \n",
       "\n",
       "[5 rows x 24 columns]"
      ]
     },
     "execution_count": 42,
     "metadata": {},
     "output_type": "execute_result"
    }
   ],
   "source": [
    "table.head()"
   ]
  },
  {
   "cell_type": "markdown",
   "metadata": {},
   "source": [
    "### Q2 (12pts). Try K-means with the differet numbers of clusters k=2..7, reporting average Silhuette score for each. Which k is the \"optimal\" from Silhuette's standpoint?"
   ]
  },
  {
   "cell_type": "code",
   "execution_count": 43,
   "metadata": {},
   "outputs": [],
   "source": [
    "\n",
    "\n",
    "range_n_clusters = [2,3,4,5,6,7]\n",
    "for n_clusters in range_n_clusters:\n",
    "                tablek=KMeans(random_state=324,n_clusters=n_clusters).fit(table)"
   ]
  },
  {
   "cell_type": "code",
   "execution_count": 44,
   "metadata": {},
   "outputs": [
    {
     "name": "stdout",
     "output_type": "stream",
     "text": [
      "For n_clusters =2, the average silhouette_score is :0.23155757478167616\n",
      "For n_clusters =3, the average silhouette_score is :0.1836733364343234\n",
      "For n_clusters =4, the average silhouette_score is :0.176411965464638\n",
      "For n_clusters =5, the average silhouette_score is :0.15796742306068604\n",
      "For n_clusters =6, the average silhouette_score is :0.16336995882169214\n",
      "For n_clusters =7, the average silhouette_score is :0.15847618631890806\n"
     ]
    }
   ],
   "source": [
    "\n",
    "for n_clusters in range_n_clusters: #try different numbers of clusters\n",
    "    tablek= KMeans(n_clusters=n_clusters, random_state=324)\n",
    "    cluster_labels = tablek.fit_predict(table)\n",
    "    #report average Silhouette score\n",
    "    silhouette_avg = silhouette_score(table, cluster_labels)\n",
    "    print(\"For n_clusters ={},\".format(n_clusters)+\" the average silhouette_score is :{}\".format(silhouette_avg))\n",
    "    \n"
   ]
  },
  {
   "cell_type": "code",
   "execution_count": 45,
   "metadata": {},
   "outputs": [],
   "source": [
    "#n cluster 2 is the optimum value "
   ]
  },
  {
   "cell_type": "markdown",
   "metadata": {},
   "source": [
    "### Q3 (15pts). Perform K-means with the optimal k from above. Report the number of occurances of each day of the week within each of the clusters. How would you interpret the clusters based on that? Visualize the aggregated hourly timeline over all the days within each cluster.\n",
    "\n",
    "Please notice that the elements we clusters are days. Each day has a day of the week property - Monday, Tue, … You basically have it as dow column in the dataframe. Let us count how many Mondays, Tuesdays , … you have in each cluster.\n",
    "\n",
    "Based on the numbers above you may provide your interpretation of the clusters in terms of their weekday decomposition. Its open-ended but you will see a clear pattern once you complete the above.\n",
    "\n",
    "If you aggregate ridership for each hour of the day over all the days which belong to a given cluster you get the total ridership for this hour of the day for this cluster. When you do it for each hour you get a timeline characterizing the entire cluster (which contains different days with similar timelines, so this aggregated timeline could be thought as a signature representing the cluster). Use appropriate normalization of the timeline by the total ridership within the cluster.\n",
    "\n",
    "But first of all in order to implement the above it might be useful to create a dictionary of the cluster numbers corresponding to each day of the year, apply it adding a column \"cluster\" to the dataframe and use pivot table with aggregation function `count` to collect the numbers above. Also use pivot table to collect total riders per hour of the day within each cluster for further visualization."
   ]
  },
  {
   "cell_type": "code",
   "execution_count": 46,
   "metadata": {
    "scrolled": true
   },
   "outputs": [
    {
     "data": {
      "text/plain": [
       "Int64Index([  0,   1,   2,   3,   4,   5,   6,   7,   8,   9,\n",
       "            ...\n",
       "            355, 356, 357, 358, 359, 360, 361, 362, 363, 364],\n",
       "           dtype='int64', name='day', length=365)"
      ]
     },
     "execution_count": 46,
     "metadata": {},
     "output_type": "execute_result"
    }
   ],
   "source": [
    "table.index"
   ]
  },
  {
   "cell_type": "code",
   "execution_count": 66,
   "metadata": {},
   "outputs": [
    {
     "ename": "AttributeError",
     "evalue": "'builtin_function_or_method' object has no attribute 'tblekk'",
     "output_type": "error",
     "traceback": [
      "\u001b[1;31m---------------------------------------------------------------------------\u001b[0m",
      "\u001b[1;31mAttributeError\u001b[0m                            Traceback (most recent call last)",
      "\u001b[1;32m<ipython-input-66-84680040796a>\u001b[0m in \u001b[0;36m<module>\u001b[1;34m\u001b[0m\n\u001b[1;32m----> 1\u001b[1;33m \u001b[0mprint\u001b[0m\u001b[1;33m.\u001b[0m\u001b[0mtblekk\u001b[0m\u001b[1;33m(\u001b[0m\u001b[1;33m)\u001b[0m\u001b[1;33m\u001b[0m\u001b[1;33m\u001b[0m\u001b[0m\n\u001b[0m",
      "\u001b[1;31mAttributeError\u001b[0m: 'builtin_function_or_method' object has no attribute 'tblekk'"
     ]
    }
   ],
   "source": []
  },
  {
   "cell_type": "code",
   "execution_count": 47,
   "metadata": {},
   "outputs": [
    {
     "name": "stdout",
     "output_type": "stream",
     "text": [
      "[0 1 4 4 0 4 0 1 3 6 0 3 2 0 0 1 0 0 6 5 0 1 0 6 0 6 5 0 1 0 6 0 0 4 0 1 6\n",
      " 0 3 6 5 0 3 6 6 0 0 4 0 0 1 6 0 3 5 0 1 6 6 0 4 5 0 1 6 1 6 6 1 0 1 0 6 6\n",
      " 6 3 0 1 6 4 0 3 3 0 1 6 6 0 6 5 0 0 1 0 3 6 5 0 1 1 6 6 6 5 0 3 3 6 0 3 5\n",
      " 0 1 6 0 3 0 4 0 1 6 6 0 3 5 0 1 6 6 5 2 5 0 1 1 2 6 6 5 0 1 1 3 6 6 5 6 0\n",
      " 1 1 0 3 3 0 1 6 6 6 6 5 0 1 6 6 6 6 4 0 1 3 6 0 6 5 0 2 3 6 0 2 5 6 1 0 5\n",
      " 1 6 5 0 1 6 6 6 6 5 0 1 3 3 0 6 4 6 2 3 3 3 1 2 0 1 6 1 3 3 4 0 1 1 3 3 6\n",
      " 3 0 3 1 6 0 5 2 0 1 1 3 0 6 5 0 1 6 6 6 1 4 6 6 1 1 1 3 5 0 1 3 6 6 6 5 0\n",
      " 1 0 3 6 3 4 0 1 6 5 2 6 5 0 1 6 6 6 6 5 0 1 3 6 0 2 4 0 1 3 6 0 3 5 0 1 6\n",
      " 6 0 6 5 0 1 6 6 6 6 5 0 1 6 6 0 6 4 0 1 6 3 1 3 4 0 1 6 6 4 5 6 6 1 3 6 0\n",
      " 6 5 0 1 6 6 6 6 5 0 1 1 6 6 6 5 0 1 3 6 6 6 2 6 5 0 6 1 6 6 6 5]\n"
     ]
    }
   ],
   "source": [
    "tablekk=KMeans(random_state=324,n_clusters=2)\n",
    "tablekk=tablek.fit(table)\n",
    "print(tablekk.labels_)\n",
    "\n",
    "\n",
    "#km=KMeans(random_state=324,n_clusters=2)\n",
    "#res=km.fit(data1)\n",
    "#print(res.labels_)"
   ]
  },
  {
   "cell_type": "code",
   "execution_count": 48,
   "metadata": {},
   "outputs": [
    {
     "data": {
      "text/plain": [
       "{0: 0,\n",
       " 1: 1,\n",
       " 2: 4,\n",
       " 3: 4,\n",
       " 4: 0,\n",
       " 5: 4,\n",
       " 6: 0,\n",
       " 7: 1,\n",
       " 8: 3,\n",
       " 9: 6,\n",
       " 10: 0,\n",
       " 11: 3,\n",
       " 12: 2,\n",
       " 13: 0,\n",
       " 14: 0,\n",
       " 15: 1,\n",
       " 16: 0,\n",
       " 17: 0,\n",
       " 18: 6,\n",
       " 19: 5,\n",
       " 20: 0,\n",
       " 21: 1,\n",
       " 22: 0,\n",
       " 23: 6,\n",
       " 24: 0,\n",
       " 25: 6,\n",
       " 26: 5,\n",
       " 27: 0,\n",
       " 28: 1,\n",
       " 29: 0,\n",
       " 30: 6,\n",
       " 31: 0,\n",
       " 32: 0,\n",
       " 33: 4,\n",
       " 34: 0,\n",
       " 35: 1,\n",
       " 36: 6,\n",
       " 37: 0,\n",
       " 38: 3,\n",
       " 39: 6,\n",
       " 40: 5,\n",
       " 41: 0,\n",
       " 42: 3,\n",
       " 43: 6,\n",
       " 44: 6,\n",
       " 45: 0,\n",
       " 46: 0,\n",
       " 47: 4,\n",
       " 48: 0,\n",
       " 49: 0,\n",
       " 50: 1,\n",
       " 51: 6,\n",
       " 52: 0,\n",
       " 53: 3,\n",
       " 54: 5,\n",
       " 55: 0,\n",
       " 56: 1,\n",
       " 57: 6,\n",
       " 58: 6,\n",
       " 59: 0,\n",
       " 60: 4,\n",
       " 61: 5,\n",
       " 62: 0,\n",
       " 63: 1,\n",
       " 64: 6,\n",
       " 65: 1,\n",
       " 66: 6,\n",
       " 67: 6,\n",
       " 68: 1,\n",
       " 69: 0,\n",
       " 70: 1,\n",
       " 71: 0,\n",
       " 72: 6,\n",
       " 73: 6,\n",
       " 74: 6,\n",
       " 75: 3,\n",
       " 76: 0,\n",
       " 77: 1,\n",
       " 78: 6,\n",
       " 79: 4,\n",
       " 80: 0,\n",
       " 81: 3,\n",
       " 82: 3,\n",
       " 83: 0,\n",
       " 84: 1,\n",
       " 85: 6,\n",
       " 86: 6,\n",
       " 87: 0,\n",
       " 88: 6,\n",
       " 89: 5,\n",
       " 90: 0,\n",
       " 91: 0,\n",
       " 92: 1,\n",
       " 93: 0,\n",
       " 94: 3,\n",
       " 95: 6,\n",
       " 96: 5,\n",
       " 97: 0,\n",
       " 98: 1,\n",
       " 99: 1,\n",
       " 100: 6,\n",
       " 101: 6,\n",
       " 102: 6,\n",
       " 103: 5,\n",
       " 104: 0,\n",
       " 105: 3,\n",
       " 106: 3,\n",
       " 107: 6,\n",
       " 108: 0,\n",
       " 109: 3,\n",
       " 110: 5,\n",
       " 111: 0,\n",
       " 112: 1,\n",
       " 113: 6,\n",
       " 114: 0,\n",
       " 115: 3,\n",
       " 116: 0,\n",
       " 117: 4,\n",
       " 118: 0,\n",
       " 119: 1,\n",
       " 120: 6,\n",
       " 121: 6,\n",
       " 122: 0,\n",
       " 123: 3,\n",
       " 124: 5,\n",
       " 125: 0,\n",
       " 126: 1,\n",
       " 127: 6,\n",
       " 128: 6,\n",
       " 129: 5,\n",
       " 130: 2,\n",
       " 131: 5,\n",
       " 132: 0,\n",
       " 133: 1,\n",
       " 134: 1,\n",
       " 135: 2,\n",
       " 136: 6,\n",
       " 137: 6,\n",
       " 138: 5,\n",
       " 139: 0,\n",
       " 140: 1,\n",
       " 141: 1,\n",
       " 142: 3,\n",
       " 143: 6,\n",
       " 144: 6,\n",
       " 145: 5,\n",
       " 146: 6,\n",
       " 147: 0,\n",
       " 148: 1,\n",
       " 149: 1,\n",
       " 150: 0,\n",
       " 151: 3,\n",
       " 152: 3,\n",
       " 153: 0,\n",
       " 154: 1,\n",
       " 155: 6,\n",
       " 156: 6,\n",
       " 157: 6,\n",
       " 158: 6,\n",
       " 159: 5,\n",
       " 160: 0,\n",
       " 161: 1,\n",
       " 162: 6,\n",
       " 163: 6,\n",
       " 164: 6,\n",
       " 165: 6,\n",
       " 166: 4,\n",
       " 167: 0,\n",
       " 168: 1,\n",
       " 169: 3,\n",
       " 170: 6,\n",
       " 171: 0,\n",
       " 172: 6,\n",
       " 173: 5,\n",
       " 174: 0,\n",
       " 175: 2,\n",
       " 176: 3,\n",
       " 177: 6,\n",
       " 178: 0,\n",
       " 179: 2,\n",
       " 180: 5,\n",
       " 181: 6,\n",
       " 182: 1,\n",
       " 183: 0,\n",
       " 184: 5,\n",
       " 185: 1,\n",
       " 186: 6,\n",
       " 187: 5,\n",
       " 188: 0,\n",
       " 189: 1,\n",
       " 190: 6,\n",
       " 191: 6,\n",
       " 192: 6,\n",
       " 193: 6,\n",
       " 194: 5,\n",
       " 195: 0,\n",
       " 196: 1,\n",
       " 197: 3,\n",
       " 198: 3,\n",
       " 199: 0,\n",
       " 200: 6,\n",
       " 201: 4,\n",
       " 202: 6,\n",
       " 203: 2,\n",
       " 204: 3,\n",
       " 205: 3,\n",
       " 206: 3,\n",
       " 207: 1,\n",
       " 208: 2,\n",
       " 209: 0,\n",
       " 210: 1,\n",
       " 211: 6,\n",
       " 212: 1,\n",
       " 213: 3,\n",
       " 214: 3,\n",
       " 215: 4,\n",
       " 216: 0,\n",
       " 217: 1,\n",
       " 218: 1,\n",
       " 219: 3,\n",
       " 220: 3,\n",
       " 221: 6,\n",
       " 222: 3,\n",
       " 223: 0,\n",
       " 224: 3,\n",
       " 225: 1,\n",
       " 226: 6,\n",
       " 227: 0,\n",
       " 228: 5,\n",
       " 229: 2,\n",
       " 230: 0,\n",
       " 231: 1,\n",
       " 232: 1,\n",
       " 233: 3,\n",
       " 234: 0,\n",
       " 235: 6,\n",
       " 236: 5,\n",
       " 237: 0,\n",
       " 238: 1,\n",
       " 239: 6,\n",
       " 240: 6,\n",
       " 241: 6,\n",
       " 242: 1,\n",
       " 243: 4,\n",
       " 244: 6,\n",
       " 245: 6,\n",
       " 246: 1,\n",
       " 247: 1,\n",
       " 248: 1,\n",
       " 249: 3,\n",
       " 250: 5,\n",
       " 251: 0,\n",
       " 252: 1,\n",
       " 253: 3,\n",
       " 254: 6,\n",
       " 255: 6,\n",
       " 256: 6,\n",
       " 257: 5,\n",
       " 258: 0,\n",
       " 259: 1,\n",
       " 260: 0,\n",
       " 261: 3,\n",
       " 262: 6,\n",
       " 263: 3,\n",
       " 264: 4,\n",
       " 265: 0,\n",
       " 266: 1,\n",
       " 267: 6,\n",
       " 268: 5,\n",
       " 269: 2,\n",
       " 270: 6,\n",
       " 271: 5,\n",
       " 272: 0,\n",
       " 273: 1,\n",
       " 274: 6,\n",
       " 275: 6,\n",
       " 276: 6,\n",
       " 277: 6,\n",
       " 278: 5,\n",
       " 279: 0,\n",
       " 280: 1,\n",
       " 281: 3,\n",
       " 282: 6,\n",
       " 283: 0,\n",
       " 284: 2,\n",
       " 285: 4,\n",
       " 286: 0,\n",
       " 287: 1,\n",
       " 288: 3,\n",
       " 289: 6,\n",
       " 290: 0,\n",
       " 291: 3,\n",
       " 292: 5,\n",
       " 293: 0,\n",
       " 294: 1,\n",
       " 295: 6,\n",
       " 296: 6,\n",
       " 297: 0,\n",
       " 298: 6,\n",
       " 299: 5,\n",
       " 300: 0,\n",
       " 301: 1,\n",
       " 302: 6,\n",
       " 303: 6,\n",
       " 304: 6,\n",
       " 305: 6,\n",
       " 306: 5,\n",
       " 307: 0,\n",
       " 308: 1,\n",
       " 309: 6,\n",
       " 310: 6,\n",
       " 311: 0,\n",
       " 312: 6,\n",
       " 313: 4,\n",
       " 314: 0,\n",
       " 315: 1,\n",
       " 316: 6,\n",
       " 317: 3,\n",
       " 318: 1,\n",
       " 319: 3,\n",
       " 320: 4,\n",
       " 321: 0,\n",
       " 322: 1,\n",
       " 323: 6,\n",
       " 324: 6,\n",
       " 325: 4,\n",
       " 326: 5,\n",
       " 327: 6,\n",
       " 328: 6,\n",
       " 329: 1,\n",
       " 330: 3,\n",
       " 331: 6,\n",
       " 332: 0,\n",
       " 333: 6,\n",
       " 334: 5,\n",
       " 335: 0,\n",
       " 336: 1,\n",
       " 337: 6,\n",
       " 338: 6,\n",
       " 339: 6,\n",
       " 340: 6,\n",
       " 341: 5,\n",
       " 342: 0,\n",
       " 343: 1,\n",
       " 344: 1,\n",
       " 345: 6,\n",
       " 346: 6,\n",
       " 347: 6,\n",
       " 348: 5,\n",
       " 349: 0,\n",
       " 350: 1,\n",
       " 351: 3,\n",
       " 352: 6,\n",
       " 353: 6,\n",
       " 354: 6,\n",
       " 355: 2,\n",
       " 356: 6,\n",
       " 357: 5,\n",
       " 358: 0,\n",
       " 359: 6,\n",
       " 360: 1,\n",
       " 361: 6,\n",
       " 362: 6,\n",
       " 363: 6,\n",
       " 364: 5}"
      ]
     },
     "execution_count": 48,
     "metadata": {},
     "output_type": "execute_result"
    }
   ],
   "source": [
    "{k:v for k, v, in zip(table.index,tablekk.labels_)}"
   ]
  },
  {
   "cell_type": "code",
   "execution_count": 50,
   "metadata": {},
   "outputs": [
    {
     "data": {
      "text/plain": [
       "0    1263\n",
       "6    1248\n",
       "5    1248\n",
       "4    1248\n",
       "3    1248\n",
       "2    1248\n",
       "1    1248\n",
       "Name: dow, dtype: int64"
      ]
     },
     "execution_count": 50,
     "metadata": {},
     "output_type": "execute_result"
    }
   ],
   "source": [
    "datasetL['dow'].value_counts(dropna=False)"
   ]
  },
  {
   "cell_type": "code",
   "execution_count": null,
   "metadata": {},
   "outputs": [],
   "source": []
  }
 ],
 "metadata": {
  "kernelspec": {
   "display_name": "Python 3",
   "language": "python",
   "name": "python3"
  },
  "language_info": {
   "codemirror_mode": {
    "name": "ipython",
    "version": 3
   },
   "file_extension": ".py",
   "mimetype": "text/x-python",
   "name": "python",
   "nbconvert_exporter": "python",
   "pygments_lexer": "ipython3",
   "version": "3.7.3"
  }
 },
 "nbformat": 4,
 "nbformat_minor": 2
}
